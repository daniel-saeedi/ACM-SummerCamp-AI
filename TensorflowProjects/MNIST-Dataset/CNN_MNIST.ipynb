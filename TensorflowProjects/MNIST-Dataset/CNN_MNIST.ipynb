{
  "nbformat": 4,
  "nbformat_minor": 0,
  "metadata": {
    "colab": {
      "name": "CNN-MNIST.ipynb",
      "provenance": [],
      "collapsed_sections": []
    },
    "kernelspec": {
      "name": "python3",
      "display_name": "Python 3"
    },
    "language_info": {
      "name": "python"
    }
  },
  "cells": [
    {
      "cell_type": "markdown",
      "metadata": {
        "id": "9bCFhXCsLTGG"
      },
      "source": [
        "#Loading the MNIST Dataset"
      ]
    },
    {
      "cell_type": "code",
      "metadata": {
        "id": "vmhHGiaArSlg"
      },
      "source": [
        "import numpy as np\n",
        "import pandas as pd\n",
        "\n",
        "import matplotlib.pyplot as plt"
      ],
      "execution_count": 1,
      "outputs": []
    },
    {
      "cell_type": "code",
      "metadata": {
        "id": "vRQKNATZrtwr"
      },
      "source": [
        "from tensorflow.keras.datasets import mnist"
      ],
      "execution_count": 2,
      "outputs": []
    },
    {
      "cell_type": "code",
      "metadata": {
        "id": "PgsIU35Br88W",
        "colab": {
          "base_uri": "https://localhost:8080/"
        },
        "outputId": "f5ebbff9-eefa-4d5f-9a66-0e4ec0354ae6"
      },
      "source": [
        " (X_train,y_train),(X_test,y_test) = mnist.load_data( )"
      ],
      "execution_count": 3,
      "outputs": [
        {
          "output_type": "stream",
          "text": [
            "Downloading data from https://storage.googleapis.com/tensorflow/tf-keras-datasets/mnist.npz\n",
            "11493376/11490434 [==============================] - 0s 0us/step\n",
            "11501568/11490434 [==============================] - 0s 0us/step\n"
          ],
          "name": "stdout"
        }
      ]
    },
    {
      "cell_type": "code",
      "metadata": {
        "colab": {
          "base_uri": "https://localhost:8080/"
        },
        "id": "Zgnpo2CVsLPP",
        "outputId": "7eb9c8f2-1322-4ad1-b488-8c90656bc41a"
      },
      "source": [
        "X_train.shape"
      ],
      "execution_count": 4,
      "outputs": [
        {
          "output_type": "execute_result",
          "data": {
            "text/plain": [
              "(60000, 28, 28)"
            ]
          },
          "metadata": {},
          "execution_count": 4
        }
      ]
    },
    {
      "cell_type": "code",
      "metadata": {
        "colab": {
          "base_uri": "https://localhost:8080/",
          "height": 282
        },
        "id": "AQ-v2YFdsZ2O",
        "outputId": "4ba59dcd-9046-4a33-b2e6-3ce03eedf36f"
      },
      "source": [
        "sample_image = X_train[2]\n",
        "plt.imshow(sample_image,cmap='gray')"
      ],
      "execution_count": 11,
      "outputs": [
        {
          "output_type": "execute_result",
          "data": {
            "text/plain": [
              "<matplotlib.image.AxesImage at 0x7faf9b2fa610>"
            ]
          },
          "metadata": {},
          "execution_count": 11
        },
        {
          "output_type": "display_data",
          "data": {
            "image/png": "[encoded data removed]",
            "text/plain": [
              "<Figure size 432x288 with 1 Axes>"
            ]
          },
          "metadata": {
            "needs_background": "light"
          }
        }
      ]
    },
    {
      "cell_type": "markdown",
      "metadata": {
        "id": "zTgfvdm7Mb-f"
      },
      "source": [
        "## Labels"
      ]
    },
    {
      "cell_type": "code",
      "metadata": {
        "id": "DyqYlAoYsvxA",
        "colab": {
          "base_uri": "https://localhost:8080/"
        },
        "outputId": "ec8b4006-8dfb-439e-b834-4d76fde12c41"
      },
      "source": [
        "y_train"
      ],
      "execution_count": 6,
      "outputs": [
        {
          "output_type": "execute_result",
          "data": {
            "text/plain": [
              "array([5, 0, 4, ..., 5, 6, 8], dtype=uint8)"
            ]
          },
          "metadata": {},
          "execution_count": 6
        }
      ]
    },
    {
      "cell_type": "markdown",
      "metadata": {
        "id": "r1uD6NXdMhCl"
      },
      "source": [
        "Our labels are like categories of numbers. We need to use one hot encoding so our CNN can understand it."
      ]
    },
    {
      "cell_type": "code",
      "metadata": {
        "id": "RRAcNhGxMf0n"
      },
      "source": [
        "from tensorflow.keras.utils import to_categorical"
      ],
      "execution_count": 7,
      "outputs": []
    },
    {
      "cell_type": "code",
      "metadata": {
        "id": "2WoR3jExNIJp"
      },
      "source": [
        "y_train_cat = to_categorical(y_train,10)\n",
        "y_test_cat = to_categorical(y_test,10)"
      ],
      "execution_count": 8,
      "outputs": []
    },
    {
      "cell_type": "code",
      "metadata": {
        "colab": {
          "base_uri": "https://localhost:8080/"
        },
        "id": "8QKl5LgtNlSV",
        "outputId": "0ac89741-8611-4387-bbee-e2dd0fe42078"
      },
      "source": [
        "y_train_cat"
      ],
      "execution_count": 9,
      "outputs": [
        {
          "output_type": "execute_result",
          "data": {
            "text/plain": [
              "array([[0., 0., 0., ..., 0., 0., 0.],\n",
              "       [1., 0., 0., ..., 0., 0., 0.],\n",
              "       [0., 0., 0., ..., 0., 0., 0.],\n",
              "       ...,\n",
              "       [0., 0., 0., ..., 0., 0., 0.],\n",
              "       [0., 0., 0., ..., 0., 0., 0.],\n",
              "       [0., 0., 0., ..., 0., 1., 0.]], dtype=float32)"
            ]
          },
          "metadata": {},
          "execution_count": 9
        }
      ]
    },
    {
      "cell_type": "markdown",
      "metadata": {
        "id": "NSEMHWfPOKCE"
      },
      "source": [
        "## Normalizing the X Data\n",
        "The color values are between 0 and 255. So dividing by 255 will normalize the X_train and X_test."
      ]
    },
    {
      "cell_type": "code",
      "metadata": {
        "colab": {
          "base_uri": "https://localhost:8080/"
        },
        "id": "SAkhzqgWNmk-",
        "outputId": "65229f8b-fe71-4882-f081-7aa6d836aca2"
      },
      "source": [
        "sample_image.max()"
      ],
      "execution_count": 12,
      "outputs": [
        {
          "output_type": "execute_result",
          "data": {
            "text/plain": [
              "255"
            ]
          },
          "metadata": {},
          "execution_count": 12
        }
      ]
    },
    {
      "cell_type": "code",
      "metadata": {
        "colab": {
          "base_uri": "https://localhost:8080/"
        },
        "id": "xRvV4XrPORJR",
        "outputId": "1258a082-6c80-43fb-a291-3124cb4ef010"
      },
      "source": [
        "sample_image.min()"
      ],
      "execution_count": 13,
      "outputs": [
        {
          "output_type": "execute_result",
          "data": {
            "text/plain": [
              "0"
            ]
          },
          "metadata": {},
          "execution_count": 13
        }
      ]
    },
    {
      "cell_type": "code",
      "metadata": {
        "id": "LVm-a7ycOTi1"
      },
      "source": [
        "X_train = X_train/255\n",
        "X_test = X_test/255"
      ],
      "execution_count": 14,
      "outputs": []
    },
    {
      "cell_type": "code",
      "metadata": {
        "colab": {
          "base_uri": "https://localhost:8080/",
          "height": 282
        },
        "id": "ZQ48Tj9jPAWg",
        "outputId": "6018778f-61a5-455d-9ab3-e17338cf8c06"
      },
      "source": [
        "scaled_image = X_train[2]\n",
        "plt.imshow(scaled_image,cmap='gray')"
      ],
      "execution_count": 17,
      "outputs": [
        {
          "output_type": "execute_result",
          "data": {
            "text/plain": [
              "<matplotlib.image.AxesImage at 0x7faf9798a750>"
            ]
          },
          "metadata": {},
          "execution_count": 17
        },
        {
          "output_type": "display_data",
          "data": {
            "image/png": "[encoded data removed]",
            "text/plain": [
              "<Figure size 432x288 with 1 Axes>"
            ]
          },
          "metadata": {
            "needs_background": "light"
          }
        }
      ]
    },
    {
      "cell_type": "markdown",
      "metadata": {
        "id": "Oqy_8mRsQjlH"
      },
      "source": [
        "## Adding one more dimension to X to show that we are dealing with 1 RGB channel"
      ]
    },
    {
      "cell_type": "code",
      "metadata": {
        "colab": {
          "base_uri": "https://localhost:8080/"
        },
        "id": "XZbfttrdRAIm",
        "outputId": "f1990eb1-1f8c-43d2-c629-569221a56488"
      },
      "source": [
        "X_train.shape"
      ],
      "execution_count": 20,
      "outputs": [
        {
          "output_type": "execute_result",
          "data": {
            "text/plain": [
              "(60000, 28, 28, 1)"
            ]
          },
          "metadata": {},
          "execution_count": 20
        }
      ]
    },
    {
      "cell_type": "code",
      "metadata": {
        "colab": {
          "base_uri": "https://localhost:8080/"
        },
        "id": "LXcVP5k5RART",
        "outputId": "c557189f-f249-46a3-e542-b83521f3a33f"
      },
      "source": [
        "X_test.shape"
      ],
      "execution_count": 21,
      "outputs": [
        {
          "output_type": "execute_result",
          "data": {
            "text/plain": [
              "(10000, 28, 28)"
            ]
          },
          "metadata": {},
          "execution_count": 21
        }
      ]
    },
    {
      "cell_type": "code",
      "metadata": {
        "id": "2UV1bxrtPGb2"
      },
      "source": [
        "X_train = X_train.reshape(60000,28,28,1)"
      ],
      "execution_count": 19,
      "outputs": []
    },
    {
      "cell_type": "code",
      "metadata": {
        "id": "A6-f_x3jQdsQ"
      },
      "source": [
        "X_test = X_test.reshape(10000,28,28,1)"
      ],
      "execution_count": 22,
      "outputs": []
    },
    {
      "cell_type": "markdown",
      "metadata": {
        "id": "S7HmBcv9Vt27"
      },
      "source": [
        "## Training the model"
      ]
    },
    {
      "cell_type": "code",
      "metadata": {
        "id": "PIv7MWMsREP1"
      },
      "source": [
        "from tensorflow.keras.models import Sequential\n",
        "from tensorflow.keras.layers import Dense, Conv2D, MaxPool2D, Flatten"
      ],
      "execution_count": 24,
      "outputs": []
    },
    {
      "cell_type": "code",
      "metadata": {
        "id": "R95hnl1zRFZb"
      },
      "source": [
        "model = Sequential()\n",
        "\n",
        "model.add(Conv2D(filters=32, kernel_size=(4,4),input_shape = (28,28,1), activation='relu'))\n",
        "\n",
        "model.add(MaxPool2D())\n",
        "\n",
        "#Flatten the 28*28 images to 784\n",
        "model.add(Flatten())\n",
        "\n",
        "model.add(Dense(units=256,activation='relu'))\n",
        "\n",
        "# 10 Categorical Outputs\n",
        "model.add(Dense(10,activation='softmax'))\n",
        "\n",
        "model.compile(optimizer='adam',loss = 'categorical_crossentropy',metrics=['accuracy'])"
      ],
      "execution_count": 27,
      "outputs": []
    },
    {
      "cell_type": "code",
      "metadata": {
        "id": "xXVqhtfzRlCq"
      },
      "source": [
        "from tensorflow.keras.callbacks import EarlyStopping"
      ],
      "execution_count": 28,
      "outputs": []
    },
    {
      "cell_type": "code",
      "metadata": {
        "id": "r5wTnmbJTXUN"
      },
      "source": [
        "early_stopping = EarlyStopping(monitor='val_loss',patience=3)"
      ],
      "execution_count": 48,
      "outputs": []
    },
    {
      "cell_type": "code",
      "metadata": {
        "colab": {
          "base_uri": "https://localhost:8080/"
        },
        "id": "tRh27AcnTZIA",
        "outputId": "ff531cb8-e4e4-49a8-e9a0-487727399342"
      },
      "source": [
        "model.fit(X_train,y_train_cat,epochs=100,callbacks=[early_stopping],validation_data=(X_test,y_test_cat))"
      ],
      "execution_count": 49,
      "outputs": [
        {
          "output_type": "stream",
          "text": [
            "Epoch 1/100\n",
            "1875/1875 [==============================] - 50s 27ms/step - loss: 0.0066 - accuracy: 0.9978 - val_loss: 0.0557 - val_accuracy: 0.9862\n",
            "Epoch 2/100\n",
            "1875/1875 [==============================] - 51s 27ms/step - loss: 0.0040 - accuracy: 0.9988 - val_loss: 0.0500 - val_accuracy: 0.9880\n",
            "Epoch 3/100\n",
            "1875/1875 [==============================] - 49s 26ms/step - loss: 0.0059 - accuracy: 0.9980 - val_loss: 0.0567 - val_accuracy: 0.9878\n",
            "Epoch 4/100\n",
            "1875/1875 [==============================] - 49s 26ms/step - loss: 0.0041 - accuracy: 0.9987 - val_loss: 0.0607 - val_accuracy: 0.9875\n",
            "Epoch 5/100\n",
            "1875/1875 [==============================] - 48s 26ms/step - loss: 0.0041 - accuracy: 0.9986 - val_loss: 0.0581 - val_accuracy: 0.9890\n"
          ],
          "name": "stdout"
        },
        {
          "output_type": "execute_result",
          "data": {
            "text/plain": [
              "<keras.callbacks.History at 0x7faf90ba86d0>"
            ]
          },
          "metadata": {},
          "execution_count": 49
        }
      ]
    },
    {
      "cell_type": "markdown",
      "metadata": {
        "id": "LGH4MSvjVUjk"
      },
      "source": [
        "## Evaluating the model\n",
        "\n"
      ]
    },
    {
      "cell_type": "code",
      "metadata": {
        "colab": {
          "base_uri": "https://localhost:8080/",
          "height": 203
        },
        "id": "GH5chHOyTwK3",
        "outputId": "167e301f-d1f8-4015-9aef-24c634506bc0"
      },
      "source": [
        "losses = pd.DataFrame(model.history.history)\n",
        "losses"
      ],
      "execution_count": 50,
      "outputs": [
        {
          "output_type": "execute_result",
          "data": {
            "text/html": [
              "<div>\n",
              "<style scoped>\n",
              "    .dataframe tbody tr th:only-of-type {\n",
              "        vertical-align: middle;\n",
              "    }\n",
              "\n",
              "    .dataframe tbody tr th {\n",
              "        vertical-align: top;\n",
              "    }\n",
              "\n",
              "    .dataframe thead th {\n",
              "        text-align: right;\n",
              "    }\n",
              "</style>\n",
              "<table border=\"1\" class=\"dataframe\">\n",
              "  <thead>\n",
              "    <tr style=\"text-align: right;\">\n",
              "      <th></th>\n",
              "      <th>loss</th>\n",
              "      <th>accuracy</th>\n",
              "      <th>val_loss</th>\n",
              "      <th>val_accuracy</th>\n",
              "    </tr>\n",
              "  </thead>\n",
              "  <tbody>\n",
              "    <tr>\n",
              "      <th>0</th>\n",
              "      <td>0.006639</td>\n",
              "      <td>0.997800</td>\n",
              "      <td>0.055701</td>\n",
              "      <td>0.9862</td>\n",
              "    </tr>\n",
              "    <tr>\n",
              "      <th>1</th>\n",
              "      <td>0.004041</td>\n",
              "      <td>0.998817</td>\n",
              "      <td>0.050031</td>\n",
              "      <td>0.9880</td>\n",
              "    </tr>\n",
              "    <tr>\n",
              "      <th>2</th>\n",
              "      <td>0.005875</td>\n",
              "      <td>0.997967</td>\n",
              "      <td>0.056738</td>\n",
              "      <td>0.9878</td>\n",
              "    </tr>\n",
              "    <tr>\n",
              "      <th>3</th>\n",
              "      <td>0.004117</td>\n",
              "      <td>0.998750</td>\n",
              "      <td>0.060749</td>\n",
              "      <td>0.9875</td>\n",
              "    </tr>\n",
              "    <tr>\n",
              "      <th>4</th>\n",
              "      <td>0.004053</td>\n",
              "      <td>0.998617</td>\n",
              "      <td>0.058067</td>\n",
              "      <td>0.9890</td>\n",
              "    </tr>\n",
              "  </tbody>\n",
              "</table>\n",
              "</div>"
            ],
            "text/plain": [
              "       loss  accuracy  val_loss  val_accuracy\n",
              "0  0.006639  0.997800  0.055701        0.9862\n",
              "1  0.004041  0.998817  0.050031        0.9880\n",
              "2  0.005875  0.997967  0.056738        0.9878\n",
              "3  0.004117  0.998750  0.060749        0.9875\n",
              "4  0.004053  0.998617  0.058067        0.9890"
            ]
          },
          "metadata": {},
          "execution_count": 50
        }
      ]
    },
    {
      "cell_type": "code",
      "metadata": {
        "colab": {
          "base_uri": "https://localhost:8080/",
          "height": 282
        },
        "id": "vnHXcH0rWC_N",
        "outputId": "81df7cc7-fb9d-4d36-aa1a-9d0ea3a1cfc6"
      },
      "source": [
        "losses[['accuracy','val_accuracy']].plot()"
      ],
      "execution_count": 51,
      "outputs": [
        {
          "output_type": "execute_result",
          "data": {
            "text/plain": [
              "<matplotlib.axes._subplots.AxesSubplot at 0x7faf90afb5d0>"
            ]
          },
          "metadata": {},
          "execution_count": 51
        },
        {
          "output_type": "display_data",
          "data": {
            "image/png": "[encoded data removed]",
            "text/plain": [
              "<Figure size 432x288 with 1 Axes>"
            ]
          },
          "metadata": {
            "needs_background": "light"
          }
        }
      ]
    },
    {
      "cell_type": "code",
      "metadata": {
        "colab": {
          "base_uri": "https://localhost:8080/",
          "height": 282
        },
        "id": "Pwb2gz5iWvkA",
        "outputId": "51575d1e-e1c4-48c9-9511-0201fe24f7a2"
      },
      "source": [
        "losses[['loss','val_loss']].plot()"
      ],
      "execution_count": 53,
      "outputs": [
        {
          "output_type": "execute_result",
          "data": {
            "text/plain": [
              "<matplotlib.axes._subplots.AxesSubplot at 0x7faf90ba8750>"
            ]
          },
          "metadata": {},
          "execution_count": 53
        },
        {
          "output_type": "display_data",
          "data": {
            "image/png": "[encoded data removed]",
            "text/plain": [
              "<Figure size 432x288 with 1 Axes>"
            ]
          },
          "metadata": {
            "needs_background": "light"
          }
        }
      ]
    },
    {
      "cell_type": "code",
      "metadata": {
        "colab": {
          "base_uri": "https://localhost:8080/"
        },
        "id": "tON4P67eZhx3",
        "outputId": "ee70075b-cffb-4d2f-9735-303b1879daf5"
      },
      "source": [
        "print(model.metrics_names)\n",
        "print(model.evaluate(X_test,y_test_cat,verbose=0))"
      ],
      "execution_count": 57,
      "outputs": [
        {
          "output_type": "stream",
          "text": [
            "['loss', 'accuracy']\n",
            "[0.05806668847799301, 0.9890000224113464]\n"
          ],
          "name": "stdout"
        }
      ]
    },
    {
      "cell_type": "code",
      "metadata": {
        "id": "ZMNT47HaZ_1I"
      },
      "source": [
        "from sklearn.metrics import classification_report,confusion_matrix"
      ],
      "execution_count": 58,
      "outputs": []
    },
    {
      "cell_type": "code",
      "metadata": {
        "id": "lEbqaMFlacdh"
      },
      "source": [
        "predictions = model.predict(X_test)\n",
        "predictions = np.argmax(predictions,axis=1)"
      ],
      "execution_count": 69,
      "outputs": []
    },
    {
      "cell_type": "code",
      "metadata": {
        "colab": {
          "base_uri": "https://localhost:8080/"
        },
        "id": "nH5OxId4bPKL",
        "outputId": "de015114-1e18-4831-9938-c10fb1f43af4"
      },
      "source": [
        "print(classification_report(y_test,predictions))"
      ],
      "execution_count": 70,
      "outputs": [
        {
          "output_type": "stream",
          "text": [
            "              precision    recall  f1-score   support\n",
            "\n",
            "           0       0.99      1.00      0.99       980\n",
            "           1       0.99      1.00      0.99      1135\n",
            "           2       0.99      0.99      0.99      1032\n",
            "           3       0.99      0.99      0.99      1010\n",
            "           4       0.99      0.98      0.99       982\n",
            "           5       0.99      0.98      0.99       892\n",
            "           6       0.99      0.99      0.99       958\n",
            "           7       0.99      0.99      0.99      1028\n",
            "           8       0.99      0.99      0.99       974\n",
            "           9       0.99      0.98      0.98      1009\n",
            "\n",
            "    accuracy                           0.99     10000\n",
            "   macro avg       0.99      0.99      0.99     10000\n",
            "weighted avg       0.99      0.99      0.99     10000\n",
            "\n"
          ],
          "name": "stdout"
        }
      ]
    },
    {
      "cell_type": "code",
      "metadata": {
        "colab": {
          "base_uri": "https://localhost:8080/"
        },
        "id": "lxDRCpIJclmk",
        "outputId": "701a6ab9-795c-43b4-a811-0950f2ffbf70"
      },
      "source": [
        "conf_matrix = confusion_matrix(y_test,predictions)\n",
        "conf_matrix"
      ],
      "execution_count": 72,
      "outputs": [
        {
          "output_type": "execute_result",
          "data": {
            "text/plain": [
              "array([[ 976,    1,    1,    0,    0,    0,    1,    1,    0,    0],\n",
              "       [   0, 1130,    0,    2,    0,    0,    1,    1,    1,    0],\n",
              "       [   1,    1, 1023,    0,    0,    0,    2,    3,    2,    0],\n",
              "       [   0,    0,    1, 1003,    0,    5,    0,    0,    1,    0],\n",
              "       [   1,    0,    1,    0,  965,    0,    5,    0,    1,    9],\n",
              "       [   1,    0,    1,    8,    0,  877,    4,    0,    1,    0],\n",
              "       [   4,    2,    0,    0,    1,    1,  950,    0,    0,    0],\n",
              "       [   0,    2,    7,    0,    1,    0,    0, 1013,    2,    3],\n",
              "       [   3,    1,    2,    1,    0,    1,    1,    0,  963,    2],\n",
              "       [   0,    1,    0,    4,    8,    1,    0,    3,    2,  990]])"
            ]
          },
          "metadata": {},
          "execution_count": 72
        }
      ]
    },
    {
      "cell_type": "code",
      "metadata": {
        "id": "IMYZwHMIdBJj"
      },
      "source": [
        "import seaborn as sns"
      ],
      "execution_count": 73,
      "outputs": []
    },
    {
      "cell_type": "code",
      "metadata": {
        "colab": {
          "base_uri": "https://localhost:8080/",
          "height": 609
        },
        "id": "ZG1Oe84Zdj4T",
        "outputId": "25ab9a20-fc73-42bd-9776-881eaebac289"
      },
      "source": [
        "plt.figure(figsize=(10,10))\n",
        "sns.heatmap(data=conf_matrix,annot=True)"
      ],
      "execution_count": 77,
      "outputs": [
        {
          "output_type": "execute_result",
          "data": {
            "text/plain": [
              "<matplotlib.axes._subplots.AxesSubplot at 0x7faf7da1c490>"
            ]
          },
          "metadata": {},
          "execution_count": 77
        },
        {
          "output_type": "display_data",
          "data": {
            "image/png": "[encoded data removed]",
            "text/plain": [
              "<Figure size 720x720 with 2 Axes>"
            ]
          },
          "metadata": {
            "needs_background": "light"
          }
        }
      ]
    },
    {
      "cell_type": "code",
      "metadata": {
        "id": "9i3tqk0adtkF"
      },
      "source": [
        ""
      ],
      "execution_count": null,
      "outputs": []
    }
  ]
}