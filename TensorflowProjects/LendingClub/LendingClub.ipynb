{
  "nbformat": 4,
  "nbformat_minor": 2,
  "metadata": {
    "colab": {
      "name": "LendingClub.ipynb",
      "provenance": [],
      "collapsed_sections": [
        "IsS-N8t2XcvJ",
        "OHOui_e1YNWK",
        "3qifJS9c4x55",
        "KfVqk2CfGgtA",
        "wwnLVqklIWaV",
        "B4avP48WkymN",
        "4enZGFPfuB9N",
        "A97WEfACyW49",
        "ECnqQrQmdRAJ",
        "HT2wOtHre2lw"
      ]
    },
    "language_info": {
      "name": "python"
    },
    "kernelspec": {
      "name": "python3",
      "display_name": "Python 3"
    },
    "accelerator": "GPU"
  },
  "cells": [
    {
      "cell_type": "markdown",
      "source": [
        "## Who should we lend to?\n",
        "In this project we'll be using a subset of the LendingClub DataSet obtained from <a href=\"https://www.kaggle.com/wordsforthewise/lending-club\">Kaggle</a>.\n",
        "\n",
        "LendingClub is a fintech that provides range of financial products and services through a technology-driven platform in the United States. It was the first peer-to-peer lender to register its offerings as securities with the Securities and Exchange Commission (SEC), and to offer loan trading on a secondary market. At its height, LendingClub was the world's largest peer-to-peer lending platform before abandoning the peer-to-peer lending model in the fall of 2020. The company claims that $15.98 billion in loans had been originated through its platform up to December 31, 2015.\n",
        "\n",
        "## Objective\n",
        "Given historical data, we should build a model that can predict whether or nor a borrower will pay back their loan?"
      ],
      "metadata": {
        "id": "BZmtwHGfLjTM"
      }
    },
    {
      "cell_type": "markdown",
      "source": [
        "## Features\n",
        "\n",
        "<table border=\"1\" class=\"dataframe\">\n",
        "  <thead>\n",
        "    <tr style=\"text-align: right;\">\n",
        "      <th></th>\n",
        "      <th>Feature</th>\n",
        "      <th>Description</th>\n",
        "    </tr>\n",
        "  </thead>\n",
        "  <tbody>\n",
        "    <tr>\n",
        "      <th>0</th>\n",
        "      <td>loan_amnt</td>\n",
        "      <td>The listed amount of the loan applied for by the borrower. If at some point in time, the credit department reduces the loan amount, then it will be reflected in this value.</td>\n",
        "    </tr>\n",
        "    <tr>\n",
        "      <th>1</th>\n",
        "      <td>term</td>\n",
        "      <td>The number of payments on the loan. Values are in months and can be either 36 or 60.</td>\n",
        "    </tr>\n",
        "    <tr>\n",
        "      <th>2</th>\n",
        "      <td>int_rate</td>\n",
        "      <td>Interest Rate on the loan</td>\n",
        "    </tr>\n",
        "    <tr>\n",
        "      <th>3</th>\n",
        "      <td>installment</td>\n",
        "      <td>The monthly payment owed by the borrower if the loan originates.</td>\n",
        "    </tr>\n",
        "    <tr>\n",
        "      <th>4</th>\n",
        "      <td>grade</td>\n",
        "      <td>LC assigned loan grade</td>\n",
        "    </tr>\n",
        "    <tr>\n",
        "      <th>5</th>\n",
        "      <td>sub_grade</td>\n",
        "      <td>LC assigned loan subgrade</td>\n",
        "    </tr>\n",
        "    <tr>\n",
        "      <th>6</th>\n",
        "      <td>emp_title</td>\n",
        "      <td>The job title supplied by the Borrower when applying for the loan.*</td>\n",
        "    </tr>\n",
        "    <tr>\n",
        "      <th>7</th>\n",
        "      <td>emp_length</td>\n",
        "      <td>Employment length in years. Possible values are between 0 and 10 where 0 means less than one year and 10 means ten or more years.</td>\n",
        "    </tr>\n",
        "    <tr>\n",
        "      <th>8</th>\n",
        "      <td>home_ownership</td>\n",
        "      <td>The home ownership status provided by the borrower during registration or obtained from the credit report. Our values are: RENT, OWN, MORTGAGE, OTHER</td>\n",
        "    </tr>\n",
        "    <tr>\n",
        "      <th>9</th>\n",
        "      <td>annual_inc</td>\n",
        "      <td>The self-reported annual income provided by the borrower during registration.</td>\n",
        "    </tr>\n",
        "    <tr>\n",
        "      <th>10</th>\n",
        "      <td>verification_status</td>\n",
        "      <td>Indicates if income was verified by LC, not verified, or if the income source was verified</td>\n",
        "    </tr>\n",
        "    <tr>\n",
        "      <th>11</th>\n",
        "      <td>issue_d</td>\n",
        "      <td>The month which the loan was funded</td>\n",
        "    </tr>\n",
        "    <tr>\n",
        "      <th>12</th>\n",
        "      <td>loan_status</td>\n",
        "      <td>Current status of the loan</td>\n",
        "    </tr>\n",
        "    <tr>\n",
        "      <th>13</th>\n",
        "      <td>purpose</td>\n",
        "      <td>A category provided by the borrower for the loan request.</td>\n",
        "    </tr>\n",
        "    <tr>\n",
        "      <th>14</th>\n",
        "      <td>title</td>\n",
        "      <td>The loan title provided by the borrower</td>\n",
        "    </tr>\n",
        "    <tr>\n",
        "      <th>15</th>\n",
        "      <td>zip_code</td>\n",
        "      <td>The first 3 numbers of the zip code provided by the borrower in the loan application.</td>\n",
        "    </tr>\n",
        "    <tr>\n",
        "      <th>16</th>\n",
        "      <td>addr_state</td>\n",
        "      <td>The state provided by the borrower in the loan application</td>\n",
        "    </tr>\n",
        "    <tr>\n",
        "      <th>17</th>\n",
        "      <td>dti</td>\n",
        "      <td>A ratio calculated using the borrower’s total monthly debt payments on the total debt obligations, excluding mortgage and the requested LC loan, divided by the borrower’s self-reported monthly income.</td>\n",
        "    </tr>\n",
        "    <tr>\n",
        "      <th>18</th>\n",
        "      <td>earliest_cr_line</td>\n",
        "      <td>The month the borrower's earliest reported credit line was opened</td>\n",
        "    </tr>\n",
        "    <tr>\n",
        "      <th>19</th>\n",
        "      <td>open_acc</td>\n",
        "      <td>The number of open credit lines in the borrower's credit file.</td>\n",
        "    </tr>\n",
        "    <tr>\n",
        "      <th>20</th>\n",
        "      <td>pub_rec</td>\n",
        "      <td>Number of derogatory public records</td>\n",
        "    </tr>\n",
        "    <tr>\n",
        "      <th>21</th>\n",
        "      <td>revol_bal</td>\n",
        "      <td>Total credit revolving balance</td>\n",
        "    </tr>\n",
        "    <tr>\n",
        "      <th>22</th>\n",
        "      <td>revol_util</td>\n",
        "      <td>Revolving line utilization rate, or the amount of credit the borrower is using relative to all available revolving credit.</td>\n",
        "    </tr>\n",
        "    <tr>\n",
        "      <th>23</th>\n",
        "      <td>total_acc</td>\n",
        "      <td>The total number of credit lines currently in the borrower's credit file</td>\n",
        "    </tr>\n",
        "    <tr>\n",
        "      <th>24</th>\n",
        "      <td>initial_list_status</td>\n",
        "      <td>The initial listing status of the loan. Possible values are – W, F</td>\n",
        "    </tr>\n",
        "    <tr>\n",
        "      <th>25</th>\n",
        "      <td>application_type</td>\n",
        "      <td>Indicates whether the loan is an individual application or a joint application with two co-borrowers</td>\n",
        "    </tr>\n",
        "    <tr>\n",
        "      <th>26</th>\n",
        "      <td>mort_acc</td>\n",
        "      <td>Number of mortgage accounts.</td>\n",
        "    </tr>\n",
        "    <tr>\n",
        "      <th>27</th>\n",
        "      <td>pub_rec_bankruptcies</td>\n",
        "      <td>Number of public record bankruptcies</td>\n",
        "    </tr>\n",
        "  </tbody>\n",
        "</table>"
      ],
      "metadata": {
        "id": "pi4Il1s3Q0B7"
      }
    },
    {
      "cell_type": "markdown",
      "source": [
        "### Importing the training set"
      ],
      "metadata": {
        "id": "08RYF6M3RGOq"
      }
    },
    {
      "cell_type": "code",
      "execution_count": 604,
      "source": [
        "import pandas as pd\n",
        "import numpy as np\n",
        "import matplotlib.pyplot as plt\n",
        "import seaborn as sns"
      ],
      "outputs": [],
      "metadata": {
        "id": "VHoLfeP-OVzp"
      }
    },
    {
      "cell_type": "code",
      "execution_count": 606,
      "source": [
        "df = pd.read_csv(\"ANN_Keras_TF2_Loan_Default/lending_club_loan.csv\")\n",
        "df.head()\n",
        "# df['home_ownership'].unique()"
      ],
      "outputs": [
        {
          "output_type": "execute_result",
          "data": {
            "text/plain": [
              "   loan_amnt  ...                                          address\n",
              "0    10000.0  ...     0174 Michelle Gateway\\nMendozaberg, OK 22690\n",
              "1     8000.0  ...  1076 Carney Fort Apt. 347\\nLoganmouth, SD 05113\n",
              "2    15600.0  ...  87025 Mark Dale Apt. 269\\nNew Sabrina, WV 05113\n",
              "3     7200.0  ...            823 Reid Ford\\nDelacruzside, MA 00813\n",
              "4    24375.0  ...             679 Luna Roads\\nGreggshire, VA 11650\n",
              "\n",
              "[5 rows x 27 columns]"
            ],
            "text/html": [
              "<div>\n",
              "<style scoped>\n",
              "    .dataframe tbody tr th:only-of-type {\n",
              "        vertical-align: middle;\n",
              "    }\n",
              "\n",
              "    .dataframe tbody tr th {\n",
              "        vertical-align: top;\n",
              "    }\n",
              "\n",
              "    .dataframe thead th {\n",
              "        text-align: right;\n",
              "    }\n",
              "</style>\n",
              "<table border=\"1\" class=\"dataframe\">\n",
              "  <thead>\n",
              "    <tr style=\"text-align: right;\">\n",
              "      <th></th>\n",
              "      <th>loan_amnt</th>\n",
              "      <th>term</th>\n",
              "      <th>int_rate</th>\n",
              "      <th>installment</th>\n",
              "      <th>grade</th>\n",
              "      <th>sub_grade</th>\n",
              "      <th>emp_title</th>\n",
              "      <th>emp_length</th>\n",
              "      <th>home_ownership</th>\n",
              "      <th>annual_inc</th>\n",
              "      <th>verification_status</th>\n",
              "      <th>issue_d</th>\n",
              "      <th>loan_status</th>\n",
              "      <th>purpose</th>\n",
              "      <th>title</th>\n",
              "      <th>dti</th>\n",
              "      <th>earliest_cr_line</th>\n",
              "      <th>open_acc</th>\n",
              "      <th>pub_rec</th>\n",
              "      <th>revol_bal</th>\n",
              "      <th>revol_util</th>\n",
              "      <th>total_acc</th>\n",
              "      <th>initial_list_status</th>\n",
              "      <th>application_type</th>\n",
              "      <th>mort_acc</th>\n",
              "      <th>pub_rec_bankruptcies</th>\n",
              "      <th>address</th>\n",
              "    </tr>\n",
              "  </thead>\n",
              "  <tbody>\n",
              "    <tr>\n",
              "      <th>0</th>\n",
              "      <td>10000.0</td>\n",
              "      <td>36 months</td>\n",
              "      <td>11.44</td>\n",
              "      <td>329.48</td>\n",
              "      <td>B</td>\n",
              "      <td>B4</td>\n",
              "      <td>Marketing</td>\n",
              "      <td>10+ years</td>\n",
              "      <td>RENT</td>\n",
              "      <td>117000.0</td>\n",
              "      <td>Not Verified</td>\n",
              "      <td>Jan-2015</td>\n",
              "      <td>Fully Paid</td>\n",
              "      <td>vacation</td>\n",
              "      <td>Vacation</td>\n",
              "      <td>26.24</td>\n",
              "      <td>Jun-1990</td>\n",
              "      <td>16.0</td>\n",
              "      <td>0.0</td>\n",
              "      <td>36369.0</td>\n",
              "      <td>41.8</td>\n",
              "      <td>25.0</td>\n",
              "      <td>w</td>\n",
              "      <td>INDIVIDUAL</td>\n",
              "      <td>0.0</td>\n",
              "      <td>0.0</td>\n",
              "      <td>0174 Michelle Gateway\\nMendozaberg, OK 22690</td>\n",
              "    </tr>\n",
              "    <tr>\n",
              "      <th>1</th>\n",
              "      <td>8000.0</td>\n",
              "      <td>36 months</td>\n",
              "      <td>11.99</td>\n",
              "      <td>265.68</td>\n",
              "      <td>B</td>\n",
              "      <td>B5</td>\n",
              "      <td>Credit analyst</td>\n",
              "      <td>4 years</td>\n",
              "      <td>MORTGAGE</td>\n",
              "      <td>65000.0</td>\n",
              "      <td>Not Verified</td>\n",
              "      <td>Jan-2015</td>\n",
              "      <td>Fully Paid</td>\n",
              "      <td>debt_consolidation</td>\n",
              "      <td>Debt consolidation</td>\n",
              "      <td>22.05</td>\n",
              "      <td>Jul-2004</td>\n",
              "      <td>17.0</td>\n",
              "      <td>0.0</td>\n",
              "      <td>20131.0</td>\n",
              "      <td>53.3</td>\n",
              "      <td>27.0</td>\n",
              "      <td>f</td>\n",
              "      <td>INDIVIDUAL</td>\n",
              "      <td>3.0</td>\n",
              "      <td>0.0</td>\n",
              "      <td>1076 Carney Fort Apt. 347\\nLoganmouth, SD 05113</td>\n",
              "    </tr>\n",
              "    <tr>\n",
              "      <th>2</th>\n",
              "      <td>15600.0</td>\n",
              "      <td>36 months</td>\n",
              "      <td>10.49</td>\n",
              "      <td>506.97</td>\n",
              "      <td>B</td>\n",
              "      <td>B3</td>\n",
              "      <td>Statistician</td>\n",
              "      <td>&lt; 1 year</td>\n",
              "      <td>RENT</td>\n",
              "      <td>43057.0</td>\n",
              "      <td>Source Verified</td>\n",
              "      <td>Jan-2015</td>\n",
              "      <td>Fully Paid</td>\n",
              "      <td>credit_card</td>\n",
              "      <td>Credit card refinancing</td>\n",
              "      <td>12.79</td>\n",
              "      <td>Aug-2007</td>\n",
              "      <td>13.0</td>\n",
              "      <td>0.0</td>\n",
              "      <td>11987.0</td>\n",
              "      <td>92.2</td>\n",
              "      <td>26.0</td>\n",
              "      <td>f</td>\n",
              "      <td>INDIVIDUAL</td>\n",
              "      <td>0.0</td>\n",
              "      <td>0.0</td>\n",
              "      <td>87025 Mark Dale Apt. 269\\nNew Sabrina, WV 05113</td>\n",
              "    </tr>\n",
              "    <tr>\n",
              "      <th>3</th>\n",
              "      <td>7200.0</td>\n",
              "      <td>36 months</td>\n",
              "      <td>6.49</td>\n",
              "      <td>220.65</td>\n",
              "      <td>A</td>\n",
              "      <td>A2</td>\n",
              "      <td>Client Advocate</td>\n",
              "      <td>6 years</td>\n",
              "      <td>RENT</td>\n",
              "      <td>54000.0</td>\n",
              "      <td>Not Verified</td>\n",
              "      <td>Nov-2014</td>\n",
              "      <td>Fully Paid</td>\n",
              "      <td>credit_card</td>\n",
              "      <td>Credit card refinancing</td>\n",
              "      <td>2.60</td>\n",
              "      <td>Sep-2006</td>\n",
              "      <td>6.0</td>\n",
              "      <td>0.0</td>\n",
              "      <td>5472.0</td>\n",
              "      <td>21.5</td>\n",
              "      <td>13.0</td>\n",
              "      <td>f</td>\n",
              "      <td>INDIVIDUAL</td>\n",
              "      <td>0.0</td>\n",
              "      <td>0.0</td>\n",
              "      <td>823 Reid Ford\\nDelacruzside, MA 00813</td>\n",
              "    </tr>\n",
              "    <tr>\n",
              "      <th>4</th>\n",
              "      <td>24375.0</td>\n",
              "      <td>60 months</td>\n",
              "      <td>17.27</td>\n",
              "      <td>609.33</td>\n",
              "      <td>C</td>\n",
              "      <td>C5</td>\n",
              "      <td>Destiny Management Inc.</td>\n",
              "      <td>9 years</td>\n",
              "      <td>MORTGAGE</td>\n",
              "      <td>55000.0</td>\n",
              "      <td>Verified</td>\n",
              "      <td>Apr-2013</td>\n",
              "      <td>Charged Off</td>\n",
              "      <td>credit_card</td>\n",
              "      <td>Credit Card Refinance</td>\n",
              "      <td>33.95</td>\n",
              "      <td>Mar-1999</td>\n",
              "      <td>13.0</td>\n",
              "      <td>0.0</td>\n",
              "      <td>24584.0</td>\n",
              "      <td>69.8</td>\n",
              "      <td>43.0</td>\n",
              "      <td>f</td>\n",
              "      <td>INDIVIDUAL</td>\n",
              "      <td>1.0</td>\n",
              "      <td>0.0</td>\n",
              "      <td>679 Luna Roads\\nGreggshire, VA 11650</td>\n",
              "    </tr>\n",
              "  </tbody>\n",
              "</table>\n",
              "</div>"
            ]
          },
          "metadata": {
            "tags": []
          },
          "execution_count": 606
        }
      ],
      "metadata": {
        "id": "yxDjHtT2V_a_",
        "colab": {
          "base_uri": "https://localhost:8080/",
          "height": 391
        },
        "outputId": "3b172729-99a4-4a87-b79d-936ae6e19595"
      }
    },
    {
      "cell_type": "markdown",
      "source": [
        "## Exploratory Data Analysis"
      ],
      "metadata": {
        "id": "IsS-N8t2XcvJ"
      }
    },
    {
      "cell_type": "code",
      "execution_count": 607,
      "source": [
        "sns.countplot(x = 'loan_status', data = df)"
      ],
      "outputs": [
        {
          "output_type": "execute_result",
          "data": {
            "text/plain": [
              "<matplotlib.axes._subplots.AxesSubplot at 0x7f128f355310>"
            ]
          },
          "metadata": {
            "tags": []
          },
          "execution_count": 607
        },
        {
          "output_type": "display_data",
          "data": {
            "text/plain": [
              "<Figure size 432x288 with 1 Axes>"
            ],
            "image/png": "[encoded data removed]"
          },
          "metadata": {
            "tags": [],
            "needs_background": "light"
          }
        }
      ],
      "metadata": {
        "colab": {
          "base_uri": "https://localhost:8080/",
          "height": 0
        },
        "id": "dpUeqZmdXrZX",
        "outputId": "038871df-15db-498f-d352-979e3e0954f6"
      }
    },
    {
      "cell_type": "markdown",
      "source": [
        "As you can see, Fully Paid loans are a lot more than Charged Off loans. So the data is not balanced.\n",
        "\n",
        "### Distribution of Loan Amount"
      ],
      "metadata": {
        "id": "OHOui_e1YNWK"
      }
    },
    {
      "cell_type": "code",
      "execution_count": 608,
      "source": [
        "plt.figure(figsize = (12,8))\n",
        "sns.distplot(df['loan_amnt'],kde=False,bins=40)"
      ],
      "outputs": [
        {
          "output_type": "stream",
          "name": "stderr",
          "text": [
            "/usr/local/lib/python3.7/dist-packages/seaborn/distributions.py:2557: FutureWarning: `distplot` is a deprecated function and will be removed in a future version. Please adapt your code to use either `displot` (a figure-level function with similar flexibility) or `histplot` (an axes-level function for histograms).\n",
            "  warnings.warn(msg, FutureWarning)\n"
          ]
        },
        {
          "output_type": "execute_result",
          "data": {
            "text/plain": [
              "<matplotlib.axes._subplots.AxesSubplot at 0x7f128f3073d0>"
            ]
          },
          "metadata": {
            "tags": []
          },
          "execution_count": 608
        },
        {
          "output_type": "display_data",
          "data": {
            "text/plain": [
              "<Figure size 864x576 with 1 Axes>"
            ],
            "image/png": "[encoded data removed]"
          },
          "metadata": {
            "tags": [],
            "needs_background": "light"
          }
        }
      ],
      "metadata": {
        "colab": {
          "base_uri": "https://localhost:8080/",
          "height": 0
        },
        "id": "-CmCu1eaYHGd",
        "outputId": "ca96c4fb-2f82-4a9a-b5e8-8b87257bc8c3"
      }
    },
    {
      "cell_type": "markdown",
      "source": [
        "### Correlation between the continuous feature variable"
      ],
      "metadata": {
        "id": "Ri343I-XaV1h"
      }
    },
    {
      "cell_type": "code",
      "execution_count": 609,
      "source": [
        "correlations = df.corr()\n",
        "correlations"
      ],
      "outputs": [
        {
          "output_type": "execute_result",
          "data": {
            "text/plain": [
              "                      loan_amnt  int_rate  ...  mort_acc  pub_rec_bankruptcies\n",
              "loan_amnt              1.000000  0.168921  ...  0.222315             -0.106539\n",
              "int_rate               0.168921  1.000000  ... -0.082583              0.057450\n",
              "installment            0.953929  0.162758  ...  0.193694             -0.098628\n",
              "annual_inc             0.336887 -0.056771  ...  0.236320             -0.050162\n",
              "dti                    0.016636  0.079038  ... -0.025439             -0.014558\n",
              "open_acc               0.198556  0.011649  ...  0.109205             -0.027732\n",
              "pub_rec               -0.077779  0.060986  ...  0.011552              0.699408\n",
              "revol_bal              0.328320 -0.011280  ...  0.194925             -0.124532\n",
              "revol_util             0.099911  0.293659  ...  0.007514             -0.086751\n",
              "total_acc              0.223886 -0.036404  ...  0.381072              0.042035\n",
              "mort_acc               0.222315 -0.082583  ...  1.000000              0.027239\n",
              "pub_rec_bankruptcies  -0.106539  0.057450  ...  0.027239              1.000000\n",
              "\n",
              "[12 rows x 12 columns]"
            ],
            "text/html": [
              "<div>\n",
              "<style scoped>\n",
              "    .dataframe tbody tr th:only-of-type {\n",
              "        vertical-align: middle;\n",
              "    }\n",
              "\n",
              "    .dataframe tbody tr th {\n",
              "        vertical-align: top;\n",
              "    }\n",
              "\n",
              "    .dataframe thead th {\n",
              "        text-align: right;\n",
              "    }\n",
              "</style>\n",
              "<table border=\"1\" class=\"dataframe\">\n",
              "  <thead>\n",
              "    <tr style=\"text-align: right;\">\n",
              "      <th></th>\n",
              "      <th>loan_amnt</th>\n",
              "      <th>int_rate</th>\n",
              "      <th>installment</th>\n",
              "      <th>annual_inc</th>\n",
              "      <th>dti</th>\n",
              "      <th>open_acc</th>\n",
              "      <th>pub_rec</th>\n",
              "      <th>revol_bal</th>\n",
              "      <th>revol_util</th>\n",
              "      <th>total_acc</th>\n",
              "      <th>mort_acc</th>\n",
              "      <th>pub_rec_bankruptcies</th>\n",
              "    </tr>\n",
              "  </thead>\n",
              "  <tbody>\n",
              "    <tr>\n",
              "      <th>loan_amnt</th>\n",
              "      <td>1.000000</td>\n",
              "      <td>0.168921</td>\n",
              "      <td>0.953929</td>\n",
              "      <td>0.336887</td>\n",
              "      <td>0.016636</td>\n",
              "      <td>0.198556</td>\n",
              "      <td>-0.077779</td>\n",
              "      <td>0.328320</td>\n",
              "      <td>0.099911</td>\n",
              "      <td>0.223886</td>\n",
              "      <td>0.222315</td>\n",
              "      <td>-0.106539</td>\n",
              "    </tr>\n",
              "    <tr>\n",
              "      <th>int_rate</th>\n",
              "      <td>0.168921</td>\n",
              "      <td>1.000000</td>\n",
              "      <td>0.162758</td>\n",
              "      <td>-0.056771</td>\n",
              "      <td>0.079038</td>\n",
              "      <td>0.011649</td>\n",
              "      <td>0.060986</td>\n",
              "      <td>-0.011280</td>\n",
              "      <td>0.293659</td>\n",
              "      <td>-0.036404</td>\n",
              "      <td>-0.082583</td>\n",
              "      <td>0.057450</td>\n",
              "    </tr>\n",
              "    <tr>\n",
              "      <th>installment</th>\n",
              "      <td>0.953929</td>\n",
              "      <td>0.162758</td>\n",
              "      <td>1.000000</td>\n",
              "      <td>0.330381</td>\n",
              "      <td>0.015786</td>\n",
              "      <td>0.188973</td>\n",
              "      <td>-0.067892</td>\n",
              "      <td>0.316455</td>\n",
              "      <td>0.123915</td>\n",
              "      <td>0.202430</td>\n",
              "      <td>0.193694</td>\n",
              "      <td>-0.098628</td>\n",
              "    </tr>\n",
              "    <tr>\n",
              "      <th>annual_inc</th>\n",
              "      <td>0.336887</td>\n",
              "      <td>-0.056771</td>\n",
              "      <td>0.330381</td>\n",
              "      <td>1.000000</td>\n",
              "      <td>-0.081685</td>\n",
              "      <td>0.136150</td>\n",
              "      <td>-0.013720</td>\n",
              "      <td>0.299773</td>\n",
              "      <td>0.027871</td>\n",
              "      <td>0.193023</td>\n",
              "      <td>0.236320</td>\n",
              "      <td>-0.050162</td>\n",
              "    </tr>\n",
              "    <tr>\n",
              "      <th>dti</th>\n",
              "      <td>0.016636</td>\n",
              "      <td>0.079038</td>\n",
              "      <td>0.015786</td>\n",
              "      <td>-0.081685</td>\n",
              "      <td>1.000000</td>\n",
              "      <td>0.136181</td>\n",
              "      <td>-0.017639</td>\n",
              "      <td>0.063571</td>\n",
              "      <td>0.088375</td>\n",
              "      <td>0.102128</td>\n",
              "      <td>-0.025439</td>\n",
              "      <td>-0.014558</td>\n",
              "    </tr>\n",
              "    <tr>\n",
              "      <th>open_acc</th>\n",
              "      <td>0.198556</td>\n",
              "      <td>0.011649</td>\n",
              "      <td>0.188973</td>\n",
              "      <td>0.136150</td>\n",
              "      <td>0.136181</td>\n",
              "      <td>1.000000</td>\n",
              "      <td>-0.018392</td>\n",
              "      <td>0.221192</td>\n",
              "      <td>-0.131420</td>\n",
              "      <td>0.680728</td>\n",
              "      <td>0.109205</td>\n",
              "      <td>-0.027732</td>\n",
              "    </tr>\n",
              "    <tr>\n",
              "      <th>pub_rec</th>\n",
              "      <td>-0.077779</td>\n",
              "      <td>0.060986</td>\n",
              "      <td>-0.067892</td>\n",
              "      <td>-0.013720</td>\n",
              "      <td>-0.017639</td>\n",
              "      <td>-0.018392</td>\n",
              "      <td>1.000000</td>\n",
              "      <td>-0.101664</td>\n",
              "      <td>-0.075910</td>\n",
              "      <td>0.019723</td>\n",
              "      <td>0.011552</td>\n",
              "      <td>0.699408</td>\n",
              "    </tr>\n",
              "    <tr>\n",
              "      <th>revol_bal</th>\n",
              "      <td>0.328320</td>\n",
              "      <td>-0.011280</td>\n",
              "      <td>0.316455</td>\n",
              "      <td>0.299773</td>\n",
              "      <td>0.063571</td>\n",
              "      <td>0.221192</td>\n",
              "      <td>-0.101664</td>\n",
              "      <td>1.000000</td>\n",
              "      <td>0.226346</td>\n",
              "      <td>0.191616</td>\n",
              "      <td>0.194925</td>\n",
              "      <td>-0.124532</td>\n",
              "    </tr>\n",
              "    <tr>\n",
              "      <th>revol_util</th>\n",
              "      <td>0.099911</td>\n",
              "      <td>0.293659</td>\n",
              "      <td>0.123915</td>\n",
              "      <td>0.027871</td>\n",
              "      <td>0.088375</td>\n",
              "      <td>-0.131420</td>\n",
              "      <td>-0.075910</td>\n",
              "      <td>0.226346</td>\n",
              "      <td>1.000000</td>\n",
              "      <td>-0.104273</td>\n",
              "      <td>0.007514</td>\n",
              "      <td>-0.086751</td>\n",
              "    </tr>\n",
              "    <tr>\n",
              "      <th>total_acc</th>\n",
              "      <td>0.223886</td>\n",
              "      <td>-0.036404</td>\n",
              "      <td>0.202430</td>\n",
              "      <td>0.193023</td>\n",
              "      <td>0.102128</td>\n",
              "      <td>0.680728</td>\n",
              "      <td>0.019723</td>\n",
              "      <td>0.191616</td>\n",
              "      <td>-0.104273</td>\n",
              "      <td>1.000000</td>\n",
              "      <td>0.381072</td>\n",
              "      <td>0.042035</td>\n",
              "    </tr>\n",
              "    <tr>\n",
              "      <th>mort_acc</th>\n",
              "      <td>0.222315</td>\n",
              "      <td>-0.082583</td>\n",
              "      <td>0.193694</td>\n",
              "      <td>0.236320</td>\n",
              "      <td>-0.025439</td>\n",
              "      <td>0.109205</td>\n",
              "      <td>0.011552</td>\n",
              "      <td>0.194925</td>\n",
              "      <td>0.007514</td>\n",
              "      <td>0.381072</td>\n",
              "      <td>1.000000</td>\n",
              "      <td>0.027239</td>\n",
              "    </tr>\n",
              "    <tr>\n",
              "      <th>pub_rec_bankruptcies</th>\n",
              "      <td>-0.106539</td>\n",
              "      <td>0.057450</td>\n",
              "      <td>-0.098628</td>\n",
              "      <td>-0.050162</td>\n",
              "      <td>-0.014558</td>\n",
              "      <td>-0.027732</td>\n",
              "      <td>0.699408</td>\n",
              "      <td>-0.124532</td>\n",
              "      <td>-0.086751</td>\n",
              "      <td>0.042035</td>\n",
              "      <td>0.027239</td>\n",
              "      <td>1.000000</td>\n",
              "    </tr>\n",
              "  </tbody>\n",
              "</table>\n",
              "</div>"
            ]
          },
          "metadata": {
            "tags": []
          },
          "execution_count": 609
        }
      ],
      "metadata": {
        "colab": {
          "base_uri": "https://localhost:8080/",
          "height": 0
        },
        "id": "wZMolptFZdmL",
        "outputId": "67582ccb-553b-4600-a81a-1409b169534d"
      }
    },
    {
      "cell_type": "code",
      "execution_count": 610,
      "source": [
        "plt.figure(figsize=(12,8))\n",
        "sns.heatmap(correlations, annot=True)"
      ],
      "outputs": [
        {
          "output_type": "execute_result",
          "data": {
            "text/plain": [
              "<matplotlib.axes._subplots.AxesSubplot at 0x7f128f257cd0>"
            ]
          },
          "metadata": {
            "tags": []
          },
          "execution_count": 610
        },
        {
          "output_type": "display_data",
          "data": {
            "text/plain": [
              "<Figure size 864x576 with 2 Axes>"
            ],
            "image/png": "[encoded data removed]"
          },
          "metadata": {
            "tags": [],
            "needs_background": "light"
          }
        }
      ],
      "metadata": {
        "colab": {
          "base_uri": "https://localhost:8080/",
          "height": 0
        },
        "id": "09dQk6rlapVc",
        "outputId": "97937513-8d76-4066-cb53-584b6a89c505"
      }
    },
    {
      "cell_type": "markdown",
      "source": [
        "There's an almost perfect correlation between loan amount and installment. Let's perform scatterplot between them."
      ],
      "metadata": {
        "id": "lNpq8W9Dg_vc"
      }
    },
    {
      "cell_type": "code",
      "execution_count": 611,
      "source": [
        "plt.figure(figsize = (12,8))\n",
        "sns.scatterplot(x = 'installment', y = 'loan_amnt', data=df)"
      ],
      "outputs": [
        {
          "output_type": "execute_result",
          "data": {
            "text/plain": [
              "<matplotlib.axes._subplots.AxesSubplot at 0x7f128f37d7d0>"
            ]
          },
          "metadata": {
            "tags": []
          },
          "execution_count": 611
        },
        {
          "output_type": "display_data",
          "data": {
            "text/plain": [
              "<Figure size 864x576 with 1 Axes>"
            ],
            "image/png": "[encoded data removed]"
          },
          "metadata": {
            "tags": [],
            "needs_background": "light"
          }
        }
      ],
      "metadata": {
        "colab": {
          "base_uri": "https://localhost:8080/",
          "height": 0
        },
        "id": "1c_Fl-k_bKg1",
        "outputId": "e680716a-2777-47a7-f6eb-ddd0be48083a"
      }
    },
    {
      "cell_type": "code",
      "execution_count": 612,
      "source": [
        "sns.boxplot(x = 'loan_amnt',y = 'loan_status', data = df)"
      ],
      "outputs": [
        {
          "output_type": "execute_result",
          "data": {
            "text/plain": [
              "<matplotlib.axes._subplots.AxesSubplot at 0x7f1295592750>"
            ]
          },
          "metadata": {
            "tags": []
          },
          "execution_count": 612
        },
        {
          "output_type": "display_data",
          "data": {
            "text/plain": [
              "<Figure size 432x288 with 1 Axes>"
            ],
            "image/png": "[encoded data removed]"
          },
          "metadata": {
            "tags": [],
            "needs_background": "light"
          }
        }
      ],
      "metadata": {
        "colab": {
          "base_uri": "https://localhost:8080/",
          "height": 0
        },
        "id": "YZuHEDrEhpCO",
        "outputId": "39c4b9d0-79d2-4e93-d7b5-f4849be109ff"
      }
    },
    {
      "cell_type": "code",
      "execution_count": 613,
      "source": [
        "df.groupby('loan_status')['loan_amnt'].describe().transpose()"
      ],
      "outputs": [
        {
          "output_type": "execute_result",
          "data": {
            "text/plain": [
              "loan_status   Charged Off     Fully Paid\n",
              "count        77673.000000  318357.000000\n",
              "mean         15126.300967   13866.878771\n",
              "std           8505.090557    8302.319699\n",
              "min           1000.000000     500.000000\n",
              "25%           8525.000000    7500.000000\n",
              "50%          14000.000000   12000.000000\n",
              "75%          20000.000000   19225.000000\n",
              "max          40000.000000   40000.000000"
            ],
            "text/html": [
              "<div>\n",
              "<style scoped>\n",
              "    .dataframe tbody tr th:only-of-type {\n",
              "        vertical-align: middle;\n",
              "    }\n",
              "\n",
              "    .dataframe tbody tr th {\n",
              "        vertical-align: top;\n",
              "    }\n",
              "\n",
              "    .dataframe thead th {\n",
              "        text-align: right;\n",
              "    }\n",
              "</style>\n",
              "<table border=\"1\" class=\"dataframe\">\n",
              "  <thead>\n",
              "    <tr style=\"text-align: right;\">\n",
              "      <th>loan_status</th>\n",
              "      <th>Charged Off</th>\n",
              "      <th>Fully Paid</th>\n",
              "    </tr>\n",
              "  </thead>\n",
              "  <tbody>\n",
              "    <tr>\n",
              "      <th>count</th>\n",
              "      <td>77673.000000</td>\n",
              "      <td>318357.000000</td>\n",
              "    </tr>\n",
              "    <tr>\n",
              "      <th>mean</th>\n",
              "      <td>15126.300967</td>\n",
              "      <td>13866.878771</td>\n",
              "    </tr>\n",
              "    <tr>\n",
              "      <th>std</th>\n",
              "      <td>8505.090557</td>\n",
              "      <td>8302.319699</td>\n",
              "    </tr>\n",
              "    <tr>\n",
              "      <th>min</th>\n",
              "      <td>1000.000000</td>\n",
              "      <td>500.000000</td>\n",
              "    </tr>\n",
              "    <tr>\n",
              "      <th>25%</th>\n",
              "      <td>8525.000000</td>\n",
              "      <td>7500.000000</td>\n",
              "    </tr>\n",
              "    <tr>\n",
              "      <th>50%</th>\n",
              "      <td>14000.000000</td>\n",
              "      <td>12000.000000</td>\n",
              "    </tr>\n",
              "    <tr>\n",
              "      <th>75%</th>\n",
              "      <td>20000.000000</td>\n",
              "      <td>19225.000000</td>\n",
              "    </tr>\n",
              "    <tr>\n",
              "      <th>max</th>\n",
              "      <td>40000.000000</td>\n",
              "      <td>40000.000000</td>\n",
              "    </tr>\n",
              "  </tbody>\n",
              "</table>\n",
              "</div>"
            ]
          },
          "metadata": {
            "tags": []
          },
          "execution_count": 613
        }
      ],
      "metadata": {
        "colab": {
          "base_uri": "https://localhost:8080/",
          "height": 0
        },
        "id": "NNvGTAgEjUpq",
        "outputId": "6998470b-cd3d-4efb-b06f-2d031b2fe766"
      }
    },
    {
      "cell_type": "markdown",
      "source": [
        "### Grade and SubGrade columns"
      ],
      "metadata": {
        "id": "KCue-hksmnFv"
      }
    },
    {
      "cell_type": "code",
      "execution_count": 614,
      "source": [
        "sorted(df['grade'].unique())"
      ],
      "outputs": [
        {
          "output_type": "execute_result",
          "data": {
            "text/plain": [
              "['A', 'B', 'C', 'D', 'E', 'F', 'G']"
            ]
          },
          "metadata": {
            "tags": []
          },
          "execution_count": 614
        }
      ],
      "metadata": {
        "colab": {
          "base_uri": "https://localhost:8080/"
        },
        "id": "xt41H0qgj4vE",
        "outputId": "a370d208-76f7-442b-d51e-614a25a6d37a"
      }
    },
    {
      "cell_type": "code",
      "execution_count": 615,
      "source": [
        "sorted(df['sub_grade'].unique())"
      ],
      "outputs": [
        {
          "output_type": "execute_result",
          "data": {
            "text/plain": [
              "['A1',\n",
              " 'A2',\n",
              " 'A3',\n",
              " 'A4',\n",
              " 'A5',\n",
              " 'B1',\n",
              " 'B2',\n",
              " 'B3',\n",
              " 'B4',\n",
              " 'B5',\n",
              " 'C1',\n",
              " 'C2',\n",
              " 'C3',\n",
              " 'C4',\n",
              " 'C5',\n",
              " 'D1',\n",
              " 'D2',\n",
              " 'D3',\n",
              " 'D4',\n",
              " 'D5',\n",
              " 'E1',\n",
              " 'E2',\n",
              " 'E3',\n",
              " 'E4',\n",
              " 'E5',\n",
              " 'F1',\n",
              " 'F2',\n",
              " 'F3',\n",
              " 'F4',\n",
              " 'F5',\n",
              " 'G1',\n",
              " 'G2',\n",
              " 'G3',\n",
              " 'G4',\n",
              " 'G5']"
            ]
          },
          "metadata": {
            "tags": []
          },
          "execution_count": 615
        }
      ],
      "metadata": {
        "colab": {
          "base_uri": "https://localhost:8080/"
        },
        "id": "vWnJvgX0nbP2",
        "outputId": "f0785772-8c4b-4dd2-d369-0e27b8f3bf40"
      }
    },
    {
      "cell_type": "code",
      "execution_count": 616,
      "source": [
        "sns.countplot(x = 'grade', data = df, hue = 'loan_status')"
      ],
      "outputs": [
        {
          "output_type": "execute_result",
          "data": {
            "text/plain": [
              "<matplotlib.axes._subplots.AxesSubplot at 0x7f128ef63950>"
            ]
          },
          "metadata": {
            "tags": []
          },
          "execution_count": 616
        },
        {
          "output_type": "display_data",
          "data": {
            "text/plain": [
              "<Figure size 432x288 with 1 Axes>"
            ],
            "image/png": "[encoded data removed]"
          },
          "metadata": {
            "tags": [],
            "needs_background": "light"
          }
        }
      ],
      "metadata": {
        "colab": {
          "base_uri": "https://localhost:8080/",
          "height": 0
        },
        "id": "Ac1YSE-nntgj",
        "outputId": "942d3be8-8cdc-4288-efea-2214999b2985"
      }
    },
    {
      "cell_type": "code",
      "execution_count": 617,
      "source": [
        "plt.figure(figsize = (12,5))\n",
        "sorted_sub_grades = sorted(df['sub_grade'].unique())\n",
        "sns.countplot(x = 'sub_grade', data = df, order = sorted_sub_grades, palette='coolwarm')"
      ],
      "outputs": [
        {
          "output_type": "execute_result",
          "data": {
            "text/plain": [
              "<matplotlib.axes._subplots.AxesSubplot at 0x7f128ef18910>"
            ]
          },
          "metadata": {
            "tags": []
          },
          "execution_count": 617
        },
        {
          "output_type": "display_data",
          "data": {
            "text/plain": [
              "<Figure size 864x360 with 1 Axes>"
            ],
            "image/png": "[encoded data removed]"
          },
          "metadata": {
            "tags": [],
            "needs_background": "light"
          }
        }
      ],
      "metadata": {
        "colab": {
          "base_uri": "https://localhost:8080/",
          "height": 0
        },
        "id": "TvO943PuoPcj",
        "outputId": "0f2d91f7-e75d-4c12-a2ca-5f7ec34ff75c"
      }
    },
    {
      "cell_type": "code",
      "execution_count": 618,
      "source": [
        "plt.figure(figsize = (12,5))\n",
        "sorted_sub_grades = sorted(df['sub_grade'].unique())\n",
        "sns.countplot(x = 'sub_grade', data = df, order = sorted_sub_grades, palette='coolwarm',hue='loan_status')"
      ],
      "outputs": [
        {
          "output_type": "execute_result",
          "data": {
            "text/plain": [
              "<matplotlib.axes._subplots.AxesSubplot at 0x7f128ee1e050>"
            ]
          },
          "metadata": {
            "tags": []
          },
          "execution_count": 618
        },
        {
          "output_type": "display_data",
          "data": {
            "text/plain": [
              "<Figure size 864x360 with 1 Axes>"
            ],
            "image/png": "[encoded data removed]"
          },
          "metadata": {
            "tags": [],
            "needs_background": "light"
          }
        }
      ],
      "metadata": {
        "id": "gMzIaxk7rHSo",
        "colab": {
          "base_uri": "https://localhost:8080/",
          "height": 0
        },
        "outputId": "77f0d0a7-82c0-46ef-ae70-ed3dac68f429"
      }
    },
    {
      "cell_type": "markdown",
      "source": [
        "As you can see, F and G grades are less likely to get paid back. Let's explore these grades further."
      ],
      "metadata": {
        "id": "TCFwCu8WvI-_"
      }
    },
    {
      "cell_type": "code",
      "execution_count": 619,
      "source": [
        "F_G_grade = df[(df['grade'] == 'F') | (df['grade'] == 'G')]\n",
        "F_G_grade.head()"
      ],
      "outputs": [
        {
          "output_type": "execute_result",
          "data": {
            "text/plain": [
              "     loan_amnt  ...                                            address\n",
              "66     15975.0  ...  59681 Christopher Lock\\nNorth Williamtown, UT ...\n",
              "87     30000.0  ...           25281 Kevin Neck\\nArmstrongton, TN 29597\n",
              "96     12625.0  ...         522 Melissa Village\\nEast Janice, MT 00813\n",
              "97     13400.0  ...              0326 Jacob Via\\nJacksonstad, MI 93700\n",
              "123    30000.0  ...   8219 Dennis Station Apt. 722\\nBateston, LA 70466\n",
              "\n",
              "[5 rows x 27 columns]"
            ],
            "text/html": [
              "<div>\n",
              "<style scoped>\n",
              "    .dataframe tbody tr th:only-of-type {\n",
              "        vertical-align: middle;\n",
              "    }\n",
              "\n",
              "    .dataframe tbody tr th {\n",
              "        vertical-align: top;\n",
              "    }\n",
              "\n",
              "    .dataframe thead th {\n",
              "        text-align: right;\n",
              "    }\n",
              "</style>\n",
              "<table border=\"1\" class=\"dataframe\">\n",
              "  <thead>\n",
              "    <tr style=\"text-align: right;\">\n",
              "      <th></th>\n",
              "      <th>loan_amnt</th>\n",
              "      <th>term</th>\n",
              "      <th>int_rate</th>\n",
              "      <th>installment</th>\n",
              "      <th>grade</th>\n",
              "      <th>sub_grade</th>\n",
              "      <th>emp_title</th>\n",
              "      <th>emp_length</th>\n",
              "      <th>home_ownership</th>\n",
              "      <th>annual_inc</th>\n",
              "      <th>verification_status</th>\n",
              "      <th>issue_d</th>\n",
              "      <th>loan_status</th>\n",
              "      <th>purpose</th>\n",
              "      <th>title</th>\n",
              "      <th>dti</th>\n",
              "      <th>earliest_cr_line</th>\n",
              "      <th>open_acc</th>\n",
              "      <th>pub_rec</th>\n",
              "      <th>revol_bal</th>\n",
              "      <th>revol_util</th>\n",
              "      <th>total_acc</th>\n",
              "      <th>initial_list_status</th>\n",
              "      <th>application_type</th>\n",
              "      <th>mort_acc</th>\n",
              "      <th>pub_rec_bankruptcies</th>\n",
              "      <th>address</th>\n",
              "    </tr>\n",
              "  </thead>\n",
              "  <tbody>\n",
              "    <tr>\n",
              "      <th>66</th>\n",
              "      <td>15975.0</td>\n",
              "      <td>60 months</td>\n",
              "      <td>24.99</td>\n",
              "      <td>468.80</td>\n",
              "      <td>F</td>\n",
              "      <td>F4</td>\n",
              "      <td>carrier</td>\n",
              "      <td>5 years</td>\n",
              "      <td>MORTGAGE</td>\n",
              "      <td>47000.0</td>\n",
              "      <td>Verified</td>\n",
              "      <td>Dec-2015</td>\n",
              "      <td>Fully Paid</td>\n",
              "      <td>debt_consolidation</td>\n",
              "      <td>Debt consolidation</td>\n",
              "      <td>2.40</td>\n",
              "      <td>May-2003</td>\n",
              "      <td>10.0</td>\n",
              "      <td>0.0</td>\n",
              "      <td>2049.0</td>\n",
              "      <td>58.5</td>\n",
              "      <td>23.0</td>\n",
              "      <td>w</td>\n",
              "      <td>INDIVIDUAL</td>\n",
              "      <td>1.0</td>\n",
              "      <td>0.0</td>\n",
              "      <td>59681 Christopher Lock\\nNorth Williamtown, UT ...</td>\n",
              "    </tr>\n",
              "    <tr>\n",
              "      <th>87</th>\n",
              "      <td>30000.0</td>\n",
              "      <td>60 months</td>\n",
              "      <td>24.70</td>\n",
              "      <td>875.28</td>\n",
              "      <td>G</td>\n",
              "      <td>G1</td>\n",
              "      <td>Medtronic</td>\n",
              "      <td>5 years</td>\n",
              "      <td>MORTGAGE</td>\n",
              "      <td>187321.0</td>\n",
              "      <td>Verified</td>\n",
              "      <td>Jul-2012</td>\n",
              "      <td>Fully Paid</td>\n",
              "      <td>debt_consolidation</td>\n",
              "      <td>Debt Consolidation</td>\n",
              "      <td>21.03</td>\n",
              "      <td>Oct-2002</td>\n",
              "      <td>21.0</td>\n",
              "      <td>0.0</td>\n",
              "      <td>54810.0</td>\n",
              "      <td>93.4</td>\n",
              "      <td>52.0</td>\n",
              "      <td>f</td>\n",
              "      <td>INDIVIDUAL</td>\n",
              "      <td>3.0</td>\n",
              "      <td>0.0</td>\n",
              "      <td>25281 Kevin Neck\\nArmstrongton, TN 29597</td>\n",
              "    </tr>\n",
              "    <tr>\n",
              "      <th>96</th>\n",
              "      <td>12625.0</td>\n",
              "      <td>60 months</td>\n",
              "      <td>25.78</td>\n",
              "      <td>376.36</td>\n",
              "      <td>F</td>\n",
              "      <td>F5</td>\n",
              "      <td>Nursing Assistant</td>\n",
              "      <td>7 years</td>\n",
              "      <td>MORTGAGE</td>\n",
              "      <td>43000.0</td>\n",
              "      <td>Verified</td>\n",
              "      <td>Jul-2015</td>\n",
              "      <td>Fully Paid</td>\n",
              "      <td>credit_card</td>\n",
              "      <td>Credit card refinancing</td>\n",
              "      <td>33.88</td>\n",
              "      <td>Aug-2003</td>\n",
              "      <td>18.0</td>\n",
              "      <td>0.0</td>\n",
              "      <td>19993.0</td>\n",
              "      <td>55.7</td>\n",
              "      <td>31.0</td>\n",
              "      <td>w</td>\n",
              "      <td>INDIVIDUAL</td>\n",
              "      <td>1.0</td>\n",
              "      <td>0.0</td>\n",
              "      <td>522 Melissa Village\\nEast Janice, MT 00813</td>\n",
              "    </tr>\n",
              "    <tr>\n",
              "      <th>97</th>\n",
              "      <td>13400.0</td>\n",
              "      <td>60 months</td>\n",
              "      <td>25.83</td>\n",
              "      <td>399.86</td>\n",
              "      <td>G</td>\n",
              "      <td>G2</td>\n",
              "      <td>DESIGNER</td>\n",
              "      <td>10+ years</td>\n",
              "      <td>MORTGAGE</td>\n",
              "      <td>56000.0</td>\n",
              "      <td>Verified</td>\n",
              "      <td>Nov-2014</td>\n",
              "      <td>Charged Off</td>\n",
              "      <td>debt_consolidation</td>\n",
              "      <td>Debt consolidation</td>\n",
              "      <td>28.05</td>\n",
              "      <td>Jun-2001</td>\n",
              "      <td>23.0</td>\n",
              "      <td>0.0</td>\n",
              "      <td>28845.0</td>\n",
              "      <td>84.5</td>\n",
              "      <td>44.0</td>\n",
              "      <td>w</td>\n",
              "      <td>INDIVIDUAL</td>\n",
              "      <td>6.0</td>\n",
              "      <td>0.0</td>\n",
              "      <td>0326 Jacob Via\\nJacksonstad, MI 93700</td>\n",
              "    </tr>\n",
              "    <tr>\n",
              "      <th>123</th>\n",
              "      <td>30000.0</td>\n",
              "      <td>60 months</td>\n",
              "      <td>23.83</td>\n",
              "      <td>860.09</td>\n",
              "      <td>F</td>\n",
              "      <td>F5</td>\n",
              "      <td>Victorian Senior Care</td>\n",
              "      <td>10+ years</td>\n",
              "      <td>MORTGAGE</td>\n",
              "      <td>72500.0</td>\n",
              "      <td>Verified</td>\n",
              "      <td>Nov-2012</td>\n",
              "      <td>Charged Off</td>\n",
              "      <td>debt_consolidation</td>\n",
              "      <td>Debt Consolodation</td>\n",
              "      <td>14.09</td>\n",
              "      <td>Nov-1993</td>\n",
              "      <td>7.0</td>\n",
              "      <td>0.0</td>\n",
              "      <td>6875.0</td>\n",
              "      <td>94.2</td>\n",
              "      <td>32.0</td>\n",
              "      <td>f</td>\n",
              "      <td>INDIVIDUAL</td>\n",
              "      <td>4.0</td>\n",
              "      <td>0.0</td>\n",
              "      <td>8219 Dennis Station Apt. 722\\nBateston, LA 70466</td>\n",
              "    </tr>\n",
              "  </tbody>\n",
              "</table>\n",
              "</div>"
            ]
          },
          "metadata": {
            "tags": []
          },
          "execution_count": 619
        }
      ],
      "metadata": {
        "colab": {
          "base_uri": "https://localhost:8080/",
          "height": 0
        },
        "id": "AsGbKulMsUK7",
        "outputId": "c8a37d44-c746-4749-c4bd-ddeeabfdca04"
      }
    },
    {
      "cell_type": "code",
      "execution_count": 620,
      "source": [
        "sorted_sub_grades = sorted(F_G_grade['sub_grade'].unique())\n",
        "sns.countplot(x = 'sub_grade', data = F_G_grade, order = sorted_sub_grades, hue = 'loan_status')"
      ],
      "outputs": [
        {
          "output_type": "execute_result",
          "data": {
            "text/plain": [
              "<matplotlib.axes._subplots.AxesSubplot at 0x7f128ec1ddd0>"
            ]
          },
          "metadata": {
            "tags": []
          },
          "execution_count": 620
        },
        {
          "output_type": "display_data",
          "data": {
            "text/plain": [
              "<Figure size 432x288 with 1 Axes>"
            ],
            "image/png": "[encoded data removed]"
          },
          "metadata": {
            "tags": [],
            "needs_background": "light"
          }
        }
      ],
      "metadata": {
        "colab": {
          "base_uri": "https://localhost:8080/",
          "height": 0
        },
        "id": "scLaMINAtlva",
        "outputId": "b0d1a090-77ea-4d39-8789-69e06dfe80f0"
      }
    },
    {
      "cell_type": "markdown",
      "source": [
        "Let's replace Fully Paid with 1 and Charged Off with 0 and call the new column loan_repaid :"
      ],
      "metadata": {
        "id": "z1ESKmpcyyry"
      }
    },
    {
      "cell_type": "code",
      "execution_count": 621,
      "source": [
        "df['loan_repaid'] = df['loan_status'].map({'Fully Paid' : 1, 'Charged Off' : 0})"
      ],
      "outputs": [],
      "metadata": {
        "id": "QT8ZkF4luWBQ"
      }
    },
    {
      "cell_type": "code",
      "execution_count": 622,
      "source": [
        "df[['loan_repaid','loan_status']]"
      ],
      "outputs": [
        {
          "output_type": "execute_result",
          "data": {
            "text/plain": [
              "        loan_repaid  loan_status\n",
              "0                 1   Fully Paid\n",
              "1                 1   Fully Paid\n",
              "2                 1   Fully Paid\n",
              "3                 1   Fully Paid\n",
              "4                 0  Charged Off\n",
              "...             ...          ...\n",
              "396025            1   Fully Paid\n",
              "396026            1   Fully Paid\n",
              "396027            1   Fully Paid\n",
              "396028            1   Fully Paid\n",
              "396029            1   Fully Paid\n",
              "\n",
              "[396030 rows x 2 columns]"
            ],
            "text/html": [
              "<div>\n",
              "<style scoped>\n",
              "    .dataframe tbody tr th:only-of-type {\n",
              "        vertical-align: middle;\n",
              "    }\n",
              "\n",
              "    .dataframe tbody tr th {\n",
              "        vertical-align: top;\n",
              "    }\n",
              "\n",
              "    .dataframe thead th {\n",
              "        text-align: right;\n",
              "    }\n",
              "</style>\n",
              "<table border=\"1\" class=\"dataframe\">\n",
              "  <thead>\n",
              "    <tr style=\"text-align: right;\">\n",
              "      <th></th>\n",
              "      <th>loan_repaid</th>\n",
              "      <th>loan_status</th>\n",
              "    </tr>\n",
              "  </thead>\n",
              "  <tbody>\n",
              "    <tr>\n",
              "      <th>0</th>\n",
              "      <td>1</td>\n",
              "      <td>Fully Paid</td>\n",
              "    </tr>\n",
              "    <tr>\n",
              "      <th>1</th>\n",
              "      <td>1</td>\n",
              "      <td>Fully Paid</td>\n",
              "    </tr>\n",
              "    <tr>\n",
              "      <th>2</th>\n",
              "      <td>1</td>\n",
              "      <td>Fully Paid</td>\n",
              "    </tr>\n",
              "    <tr>\n",
              "      <th>3</th>\n",
              "      <td>1</td>\n",
              "      <td>Fully Paid</td>\n",
              "    </tr>\n",
              "    <tr>\n",
              "      <th>4</th>\n",
              "      <td>0</td>\n",
              "      <td>Charged Off</td>\n",
              "    </tr>\n",
              "    <tr>\n",
              "      <th>...</th>\n",
              "      <td>...</td>\n",
              "      <td>...</td>\n",
              "    </tr>\n",
              "    <tr>\n",
              "      <th>396025</th>\n",
              "      <td>1</td>\n",
              "      <td>Fully Paid</td>\n",
              "    </tr>\n",
              "    <tr>\n",
              "      <th>396026</th>\n",
              "      <td>1</td>\n",
              "      <td>Fully Paid</td>\n",
              "    </tr>\n",
              "    <tr>\n",
              "      <th>396027</th>\n",
              "      <td>1</td>\n",
              "      <td>Fully Paid</td>\n",
              "    </tr>\n",
              "    <tr>\n",
              "      <th>396028</th>\n",
              "      <td>1</td>\n",
              "      <td>Fully Paid</td>\n",
              "    </tr>\n",
              "    <tr>\n",
              "      <th>396029</th>\n",
              "      <td>1</td>\n",
              "      <td>Fully Paid</td>\n",
              "    </tr>\n",
              "  </tbody>\n",
              "</table>\n",
              "<p>396030 rows × 2 columns</p>\n",
              "</div>"
            ]
          },
          "metadata": {
            "tags": []
          },
          "execution_count": 622
        }
      ],
      "metadata": {
        "colab": {
          "base_uri": "https://localhost:8080/",
          "height": 0
        },
        "id": "swBQh5IjzIhC",
        "outputId": "a1aacfba-f679-46eb-ddb2-2001bb7736ec"
      }
    },
    {
      "cell_type": "markdown",
      "source": [
        "### Correlation between lone_repaid and other numeric features"
      ],
      "metadata": {
        "id": "7Z9cOYiK189b"
      }
    },
    {
      "cell_type": "code",
      "execution_count": 623,
      "source": [
        "df.select_dtypes(include='number').corr()['loan_repaid'].sort_values().drop('loan_repaid').plot(kind = 'bar')"
      ],
      "outputs": [
        {
          "output_type": "execute_result",
          "data": {
            "text/plain": [
              "<matplotlib.axes._subplots.AxesSubplot at 0x7f128ebb0610>"
            ]
          },
          "metadata": {
            "tags": []
          },
          "execution_count": 623
        },
        {
          "output_type": "display_data",
          "data": {
            "text/plain": [
              "<Figure size 432x288 with 1 Axes>"
            ],
            "image/png": "[encoded data removed]"
          },
          "metadata": {
            "tags": [],
            "needs_background": "light"
          }
        }
      ],
      "metadata": {
        "colab": {
          "base_uri": "https://localhost:8080/",
          "height": 0
        },
        "id": "32M_DuTmzKtu",
        "outputId": "3bd7af84-e8ef-487d-b3eb-ccc53fdbda8d"
      }
    },
    {
      "cell_type": "markdown",
      "source": [
        "# Dealing with missing values\n",
        "\n",
        "Let's see which column has missing value :"
      ],
      "metadata": {
        "id": "3qifJS9c4x55"
      }
    },
    {
      "cell_type": "code",
      "execution_count": 624,
      "source": [
        "df_len = len(df)\n",
        "df.isnull().sum() / df_len * 100"
      ],
      "outputs": [
        {
          "output_type": "execute_result",
          "data": {
            "text/plain": [
              "loan_amnt               0.000000\n",
              "term                    0.000000\n",
              "int_rate                0.000000\n",
              "installment             0.000000\n",
              "grade                   0.000000\n",
              "sub_grade               0.000000\n",
              "emp_title               5.789208\n",
              "emp_length              4.621115\n",
              "home_ownership          0.000000\n",
              "annual_inc              0.000000\n",
              "verification_status     0.000000\n",
              "issue_d                 0.000000\n",
              "loan_status             0.000000\n",
              "purpose                 0.000000\n",
              "title                   0.443148\n",
              "dti                     0.000000\n",
              "earliest_cr_line        0.000000\n",
              "open_acc                0.000000\n",
              "pub_rec                 0.000000\n",
              "revol_bal               0.000000\n",
              "revol_util              0.069692\n",
              "total_acc               0.000000\n",
              "initial_list_status     0.000000\n",
              "application_type        0.000000\n",
              "mort_acc                9.543469\n",
              "pub_rec_bankruptcies    0.135091\n",
              "address                 0.000000\n",
              "loan_repaid             0.000000\n",
              "dtype: float64"
            ]
          },
          "metadata": {
            "tags": []
          },
          "execution_count": 624
        }
      ],
      "metadata": {
        "colab": {
          "base_uri": "https://localhost:8080/"
        },
        "id": "IizzdoXM45PI",
        "outputId": "dcff2d60-de47-4651-dfdc-bf0588b191f7"
      }
    },
    {
      "cell_type": "markdown",
      "source": [
        "## Employment Title Feature"
      ],
      "metadata": {
        "id": "KfVqk2CfGgtA"
      }
    },
    {
      "cell_type": "code",
      "execution_count": 625,
      "source": [
        "df.groupby('emp_title').size().sort_values(ascending = False)"
      ],
      "outputs": [
        {
          "output_type": "execute_result",
          "data": {
            "text/plain": [
              "emp_title\n",
              "Teacher                        4389\n",
              "Manager                        4250\n",
              "Registered Nurse               1856\n",
              "RN                             1846\n",
              "Supervisor                     1830\n",
              "                               ... \n",
              "Roto-Rooter Service Company       1\n",
              "Roto-Rooter Plumbers              1\n",
              "Roto-Rooter                       1\n",
              "Roto Rooter Plumbing              1\n",
              "       NSA Industries llc         1\n",
              "Length: 173105, dtype: int64"
            ]
          },
          "metadata": {
            "tags": []
          },
          "execution_count": 625
        }
      ],
      "metadata": {
        "colab": {
          "base_uri": "https://localhost:8080/"
        },
        "id": "vsO5N2C-5UrA",
        "outputId": "927e9391-45ea-42d1-bbaa-53a759439006"
      }
    },
    {
      "cell_type": "markdown",
      "source": [
        "There are too many job titles. So it's not a good idea to convert this column to dummy variables."
      ],
      "metadata": {
        "id": "O2yERGeCGu3U"
      }
    },
    {
      "cell_type": "code",
      "execution_count": 626,
      "source": [
        "df = df.drop('emp_title',axis=1)"
      ],
      "outputs": [],
      "metadata": {
        "id": "FteCH1ooBMO1"
      }
    },
    {
      "cell_type": "markdown",
      "source": [
        "## Employment Title Feature"
      ],
      "metadata": {
        "id": "wwnLVqklIWaV"
      }
    },
    {
      "cell_type": "code",
      "execution_count": 627,
      "source": [
        "emp_len = df['emp_length'].unique()\n",
        "\n",
        "emp_len"
      ],
      "outputs": [
        {
          "output_type": "execute_result",
          "data": {
            "text/plain": [
              "array(['10+ years', '4 years', '< 1 year', '6 years', '9 years',\n",
              "       '2 years', '3 years', '8 years', '7 years', '5 years', '1 year',\n",
              "       nan], dtype=object)"
            ]
          },
          "metadata": {
            "tags": []
          },
          "execution_count": 627
        }
      ],
      "metadata": {
        "colab": {
          "base_uri": "https://localhost:8080/"
        },
        "id": "oUaF-VU4HByT",
        "outputId": "f591497e-5b63-4e85-ff19-4ad43fbcb716"
      }
    },
    {
      "cell_type": "code",
      "execution_count": 628,
      "source": [
        "emp_len_sorted = emp_length_order = [ '< 1 year','1 year','2 years','3 years','4 years','5 years','6 years','7 years','8 years','9 years','10+ years']\n",
        "\n",
        "plt.figure(figsize = (12,4))\n",
        "sns.countplot(x = 'emp_length', data = df, order = emp_len_sorted,hue = 'loan_status')"
      ],
      "outputs": [
        {
          "output_type": "execute_result",
          "data": {
            "text/plain": [
              "<matplotlib.axes._subplots.AxesSubplot at 0x7f128eb3b610>"
            ]
          },
          "metadata": {
            "tags": []
          },
          "execution_count": 628
        },
        {
          "output_type": "display_data",
          "data": {
            "text/plain": [
              "<Figure size 864x288 with 1 Axes>"
            ],
            "image/png": "[encoded data removed]"
          },
          "metadata": {
            "tags": [],
            "needs_background": "light"
          }
        }
      ],
      "metadata": {
        "colab": {
          "base_uri": "https://localhost:8080/",
          "height": 0
        },
        "id": "v6_hmFxSJbyC",
        "outputId": "9bd3af1d-b67f-4e9f-f107-df228ee3f129"
      }
    },
    {
      "cell_type": "markdown",
      "source": [
        "Still we can't say for sure what is the correlation of empolyment length and loan status."
      ],
      "metadata": {
        "id": "-JurBGmrT9Uv"
      }
    },
    {
      "cell_type": "code",
      "execution_count": 629,
      "source": [
        "emp_fully_paid = df[df['loan_status'] == 'Fully Paid'].groupby('emp_length').count()['loan_status']\n",
        "emp_fully_paid"
      ],
      "outputs": [
        {
          "output_type": "execute_result",
          "data": {
            "text/plain": [
              "emp_length\n",
              "1 year        20728\n",
              "10+ years    102826\n",
              "2 years       28903\n",
              "3 years       25483\n",
              "4 years       19344\n",
              "5 years       21403\n",
              "6 years       16898\n",
              "7 years       16764\n",
              "8 years       15339\n",
              "9 years       12244\n",
              "< 1 year      25162\n",
              "Name: loan_status, dtype: int64"
            ]
          },
          "metadata": {
            "tags": []
          },
          "execution_count": 629
        }
      ],
      "metadata": {
        "colab": {
          "base_uri": "https://localhost:8080/"
        },
        "id": "uWHYyLQnKC-H",
        "outputId": "68ffe91e-8b16-4a49-bbc2-20d1ea606a7a"
      }
    },
    {
      "cell_type": "code",
      "execution_count": 630,
      "source": [
        "emp_charged_off = df[df['loan_status'] == 'Charged Off'].groupby('emp_length').count()['loan_status']\n",
        "emp_charged_off"
      ],
      "outputs": [
        {
          "output_type": "execute_result",
          "data": {
            "text/plain": [
              "emp_length\n",
              "1 year        5154\n",
              "10+ years    23215\n",
              "2 years       6924\n",
              "3 years       6182\n",
              "4 years       4608\n",
              "5 years       5092\n",
              "6 years       3943\n",
              "7 years       4055\n",
              "8 years       3829\n",
              "9 years       3070\n",
              "< 1 year      6563\n",
              "Name: loan_status, dtype: int64"
            ]
          },
          "metadata": {
            "tags": []
          },
          "execution_count": 630
        }
      ],
      "metadata": {
        "colab": {
          "base_uri": "https://localhost:8080/"
        },
        "id": "n-TRJHlSVBU0",
        "outputId": "dbe717cf-3d7d-48ef-fff2-a911dde6deb3"
      }
    },
    {
      "cell_type": "code",
      "execution_count": 631,
      "source": [
        "# CO = Charged Off, FP = Fully Paid\n",
        "co_fp_ratio = (emp_charged_off/(emp_fully_paid+emp_charged_off))*100\n",
        "co_fp_ratio"
      ],
      "outputs": [
        {
          "output_type": "execute_result",
          "data": {
            "text/plain": [
              "emp_length\n",
              "1 year       19.913453\n",
              "10+ years    18.418610\n",
              "2 years      19.326206\n",
              "3 years      19.523133\n",
              "4 years      19.238477\n",
              "5 years      19.218721\n",
              "6 years      18.919438\n",
              "7 years      19.477400\n",
              "8 years      19.976002\n",
              "9 years      20.047016\n",
              "< 1 year     20.687155\n",
              "Name: loan_status, dtype: float64"
            ]
          },
          "metadata": {
            "tags": []
          },
          "execution_count": 631
        }
      ],
      "metadata": {
        "colab": {
          "base_uri": "https://localhost:8080/"
        },
        "id": "YeaDjbjSXOeS",
        "outputId": "10861e1d-ec5e-4e45-d5c5-03d0bd6e4747"
      }
    },
    {
      "cell_type": "code",
      "execution_count": 632,
      "source": [
        "co_fp_ratio.plot(kind = 'bar')"
      ],
      "outputs": [
        {
          "output_type": "execute_result",
          "data": {
            "text/plain": [
              "<matplotlib.axes._subplots.AxesSubplot at 0x7f128ea67810>"
            ]
          },
          "metadata": {
            "tags": []
          },
          "execution_count": 632
        },
        {
          "output_type": "display_data",
          "data": {
            "text/plain": [
              "<Figure size 432x288 with 1 Axes>"
            ],
            "image/png": "[encoded data removed]"
          },
          "metadata": {
            "tags": [],
            "needs_background": "light"
          }
        }
      ],
      "metadata": {
        "colab": {
          "base_uri": "https://localhost:8080/",
          "height": 0
        },
        "id": "YXvyooDVXeCN",
        "outputId": "1119d39b-35c1-4397-9660-8452d783f541"
      }
    },
    {
      "cell_type": "markdown",
      "source": [
        "Well as you can see, the difference in the ratio of (Charged Off)/(Charged off + Fully Paid) in every employment length is extermly low. So employment length doesn't really predict the loan status. Let's drop this column."
      ],
      "metadata": {
        "id": "g1Z9PCtjZIZg"
      }
    },
    {
      "cell_type": "code",
      "execution_count": 633,
      "source": [
        "df = df.drop('emp_length',axis = 1)"
      ],
      "outputs": [],
      "metadata": {
        "id": "Y74yvRYXYL1v"
      }
    },
    {
      "cell_type": "code",
      "execution_count": 634,
      "source": [
        "df['title'].head()"
      ],
      "outputs": [
        {
          "output_type": "execute_result",
          "data": {
            "text/plain": [
              "0                   Vacation\n",
              "1         Debt consolidation\n",
              "2    Credit card refinancing\n",
              "3    Credit card refinancing\n",
              "4      Credit Card Refinance\n",
              "Name: title, dtype: object"
            ]
          },
          "metadata": {
            "tags": []
          },
          "execution_count": 634
        }
      ],
      "metadata": {
        "colab": {
          "base_uri": "https://localhost:8080/"
        },
        "id": "yWjd50GUhsJ2",
        "outputId": "22550cc1-506d-40d0-c766-fb38dd56bef7"
      }
    },
    {
      "cell_type": "code",
      "execution_count": 635,
      "source": [
        "df['purpose'].head()"
      ],
      "outputs": [
        {
          "output_type": "execute_result",
          "data": {
            "text/plain": [
              "0              vacation\n",
              "1    debt_consolidation\n",
              "2           credit_card\n",
              "3           credit_card\n",
              "4           credit_card\n",
              "Name: purpose, dtype: object"
            ]
          },
          "metadata": {
            "tags": []
          },
          "execution_count": 635
        }
      ],
      "metadata": {
        "colab": {
          "base_uri": "https://localhost:8080/"
        },
        "id": "wu-QmVg7Qnc3",
        "outputId": "76816b25-8962-44fd-bedb-b52a882df731"
      }
    },
    {
      "cell_type": "markdown",
      "source": [
        "The title column is a subcategory of the purpose column."
      ],
      "metadata": {
        "id": "bjdV6KFjRvWf"
      }
    },
    {
      "cell_type": "code",
      "execution_count": 636,
      "source": [
        "df = df.drop('title', axis = 1)"
      ],
      "outputs": [],
      "metadata": {
        "id": "6WXBZoKGhxeh"
      }
    },
    {
      "cell_type": "markdown",
      "source": [
        "## Mortage Account Feature\n"
      ],
      "metadata": {
        "id": "B4avP48WkymN"
      }
    },
    {
      "cell_type": "code",
      "execution_count": 637,
      "source": [
        "df['mort_acc'].value_counts()"
      ],
      "outputs": [
        {
          "output_type": "execute_result",
          "data": {
            "text/plain": [
              "0.0     139777\n",
              "1.0      60416\n",
              "2.0      49948\n",
              "3.0      38049\n",
              "4.0      27887\n",
              "5.0      18194\n",
              "6.0      11069\n",
              "7.0       6052\n",
              "8.0       3121\n",
              "9.0       1656\n",
              "10.0       865\n",
              "11.0       479\n",
              "12.0       264\n",
              "13.0       146\n",
              "14.0       107\n",
              "15.0        61\n",
              "16.0        37\n",
              "17.0        22\n",
              "18.0        18\n",
              "19.0        15\n",
              "20.0        13\n",
              "24.0        10\n",
              "22.0         7\n",
              "21.0         4\n",
              "25.0         4\n",
              "27.0         3\n",
              "23.0         2\n",
              "32.0         2\n",
              "26.0         2\n",
              "31.0         2\n",
              "30.0         1\n",
              "28.0         1\n",
              "34.0         1\n",
              "Name: mort_acc, dtype: int64"
            ]
          },
          "metadata": {
            "tags": []
          },
          "execution_count": 637
        }
      ],
      "metadata": {
        "colab": {
          "base_uri": "https://localhost:8080/"
        },
        "id": "US4X3Lm9kQSf",
        "outputId": "97bc79cd-9d49-4ad1-d837-b5271c87f409"
      }
    },
    {
      "cell_type": "code",
      "execution_count": 638,
      "source": [
        "df.corr()['mort_acc']"
      ],
      "outputs": [
        {
          "output_type": "execute_result",
          "data": {
            "text/plain": [
              "loan_amnt               0.222315\n",
              "int_rate               -0.082583\n",
              "installment             0.193694\n",
              "annual_inc              0.236320\n",
              "dti                    -0.025439\n",
              "open_acc                0.109205\n",
              "pub_rec                 0.011552\n",
              "revol_bal               0.194925\n",
              "revol_util              0.007514\n",
              "total_acc               0.381072\n",
              "mort_acc                1.000000\n",
              "pub_rec_bankruptcies    0.027239\n",
              "loan_repaid             0.073111\n",
              "Name: mort_acc, dtype: float64"
            ]
          },
          "metadata": {
            "tags": []
          },
          "execution_count": 638
        }
      ],
      "metadata": {
        "id": "0ot_1-Ialqk3",
        "colab": {
          "base_uri": "https://localhost:8080/"
        },
        "outputId": "d5923d09-1eeb-45ed-be1a-8cb629a4fcb0"
      }
    },
    {
      "cell_type": "code",
      "execution_count": 639,
      "source": [
        "mort_avg_per_total_acc = df.groupby('total_acc').mean()['mort_acc']\n",
        "mort_avg_per_total_acc"
      ],
      "outputs": [
        {
          "output_type": "execute_result",
          "data": {
            "text/plain": [
              "total_acc\n",
              "2.0      0.000000\n",
              "3.0      0.052023\n",
              "4.0      0.066743\n",
              "5.0      0.103289\n",
              "6.0      0.151293\n",
              "           ...   \n",
              "124.0    1.000000\n",
              "129.0    1.000000\n",
              "135.0    3.000000\n",
              "150.0    2.000000\n",
              "151.0    0.000000\n",
              "Name: mort_acc, Length: 118, dtype: float64"
            ]
          },
          "metadata": {
            "tags": []
          },
          "execution_count": 639
        }
      ],
      "metadata": {
        "colab": {
          "base_uri": "https://localhost:8080/"
        },
        "id": "0IFuRpgjZLrt",
        "outputId": "b433685b-8177-4cfc-ba11-5feb990e0a5e"
      }
    },
    {
      "cell_type": "code",
      "execution_count": 640,
      "source": [
        "def Fill_Mortage(mort_acc,total_acc):\n",
        "  if pd.isna(mort_acc):\n",
        "    return mort_avg_per_total_acc[total_acc]\n",
        "  else :\n",
        "    return mort_acc\n",
        "\n",
        "df['mort_acc'] = df.apply(\n",
        "    lambda row: Fill_Mortage(row['mort_acc'], row['total_acc']),\n",
        "    axis=1\n",
        ")\n",
        "\n",
        "df['mort_acc']"
      ],
      "outputs": [
        {
          "output_type": "execute_result",
          "data": {
            "text/plain": [
              "0         0.000000\n",
              "1         3.000000\n",
              "2         0.000000\n",
              "3         0.000000\n",
              "4         1.000000\n",
              "            ...   \n",
              "396025    0.000000\n",
              "396026    1.000000\n",
              "396027    0.000000\n",
              "396028    5.000000\n",
              "396029    1.358013\n",
              "Name: mort_acc, Length: 396030, dtype: float64"
            ]
          },
          "metadata": {
            "tags": []
          },
          "execution_count": 640
        }
      ],
      "metadata": {
        "colab": {
          "base_uri": "https://localhost:8080/"
        },
        "id": "NqmSRB29Z1I2",
        "outputId": "8166fb43-ce20-40cd-a47b-67cde4966927"
      }
    },
    {
      "cell_type": "markdown",
      "source": [
        "## revol_util and pub_rec_bankruptcies Features"
      ],
      "metadata": {
        "id": "LZ1onKRnsdV0"
      }
    },
    {
      "cell_type": "code",
      "execution_count": 641,
      "source": [
        "df.isnull().sum() / len(df) * 100"
      ],
      "outputs": [
        {
          "output_type": "execute_result",
          "data": {
            "text/plain": [
              "loan_amnt               0.000000\n",
              "term                    0.000000\n",
              "int_rate                0.000000\n",
              "installment             0.000000\n",
              "grade                   0.000000\n",
              "sub_grade               0.000000\n",
              "home_ownership          0.000000\n",
              "annual_inc              0.000000\n",
              "verification_status     0.000000\n",
              "issue_d                 0.000000\n",
              "loan_status             0.000000\n",
              "purpose                 0.000000\n",
              "dti                     0.000000\n",
              "earliest_cr_line        0.000000\n",
              "open_acc                0.000000\n",
              "pub_rec                 0.000000\n",
              "revol_bal               0.000000\n",
              "revol_util              0.069692\n",
              "total_acc               0.000000\n",
              "initial_list_status     0.000000\n",
              "application_type        0.000000\n",
              "mort_acc                0.000000\n",
              "pub_rec_bankruptcies    0.135091\n",
              "address                 0.000000\n",
              "loan_repaid             0.000000\n",
              "dtype: float64"
            ]
          },
          "metadata": {
            "tags": []
          },
          "execution_count": 641
        }
      ],
      "metadata": {
        "id": "pEJTNVO9f3kt",
        "colab": {
          "base_uri": "https://localhost:8080/"
        },
        "outputId": "f1cbeeb4-d4f5-4c43-b6ce-1c2fe6c3c0fd"
      }
    },
    {
      "cell_type": "markdown",
      "source": [
        "The missing data in revol_util and pub_rec_bankruptcies account for less than 0.3 of the dataset. So let's drop NaN values."
      ],
      "metadata": {
        "id": "C86jHEjJs2C9"
      }
    },
    {
      "cell_type": "code",
      "execution_count": 642,
      "source": [
        "df = df.dropna()"
      ],
      "outputs": [],
      "metadata": {
        "id": "mcwS6PXusUb_"
      }
    },
    {
      "cell_type": "markdown",
      "source": [],
      "metadata": {
        "id": "0z0lCptWt4Ol"
      }
    },
    {
      "cell_type": "markdown",
      "source": [
        "# Dealing With Categorical Variables"
      ],
      "metadata": {
        "id": "4enZGFPfuB9N"
      }
    },
    {
      "cell_type": "code",
      "execution_count": 643,
      "source": [
        "df.select_dtypes(['object']).columns"
      ],
      "outputs": [
        {
          "output_type": "execute_result",
          "data": {
            "text/plain": [
              "Index(['term', 'grade', 'sub_grade', 'home_ownership', 'verification_status',\n",
              "       'issue_d', 'loan_status', 'purpose', 'earliest_cr_line',\n",
              "       'initial_list_status', 'application_type', 'address'],\n",
              "      dtype='object')"
            ]
          },
          "metadata": {
            "tags": []
          },
          "execution_count": 643
        }
      ],
      "metadata": {
        "colab": {
          "base_uri": "https://localhost:8080/"
        },
        "id": "h8Cs_dyhvi7g",
        "outputId": "44958806-f5b9-4990-9085-4ce55e93bea3"
      }
    },
    {
      "cell_type": "markdown",
      "source": [
        "## Term Feature"
      ],
      "metadata": {
        "id": "A97WEfACyW49"
      }
    },
    {
      "cell_type": "code",
      "execution_count": 644,
      "source": [
        "df['term'] = df['term'].apply(lambda term: int(term[0:3]))\n",
        "df['term']"
      ],
      "outputs": [
        {
          "output_type": "execute_result",
          "data": {
            "text/plain": [
              "0         36\n",
              "1         36\n",
              "2         36\n",
              "3         36\n",
              "4         60\n",
              "          ..\n",
              "396025    60\n",
              "396026    36\n",
              "396027    36\n",
              "396028    60\n",
              "396029    36\n",
              "Name: term, Length: 395219, dtype: int64"
            ]
          },
          "metadata": {
            "tags": []
          },
          "execution_count": 644
        }
      ],
      "metadata": {
        "colab": {
          "base_uri": "https://localhost:8080/"
        },
        "id": "Kzimcqqsv9DJ",
        "outputId": "14f643e4-9017-412e-b42f-d89bb62543d0"
      }
    },
    {
      "cell_type": "markdown",
      "source": [
        "## Grade Feature\n",
        "grade is part of sub_grade. So fro sub_grade, we know the grade feature. Let's drop grade column."
      ],
      "metadata": {
        "id": "7ySh4V0cyfuT"
      }
    },
    {
      "cell_type": "code",
      "execution_count": 645,
      "source": [
        "df = df.drop('grade',axis = 1)"
      ],
      "outputs": [],
      "metadata": {
        "id": "oPQSzaJOL17x"
      }
    },
    {
      "cell_type": "code",
      "execution_count": 646,
      "source": [
        "from sklearn.preprocessing import OneHotEncoder"
      ],
      "outputs": [],
      "metadata": {
        "id": "gdcjUt7wMTyT"
      }
    },
    {
      "cell_type": "code",
      "execution_count": 647,
      "source": [
        "subgrade_onehot_encoded = pd.get_dummies(df['sub_grade'],drop_first=True)\n",
        "df = pd.concat([df.drop('sub_grade',axis = 1),subgrade_onehot_encoded],axis = 1)"
      ],
      "outputs": [],
      "metadata": {
        "id": "Pf0DWR0FNOSU"
      }
    },
    {
      "cell_type": "markdown",
      "source": [
        "## Home Ownership Feature"
      ],
      "metadata": {
        "id": "L-drpbaf4_eg"
      }
    },
    {
      "cell_type": "code",
      "execution_count": 648,
      "source": [
        "df['home_ownership'].value_counts()"
      ],
      "outputs": [
        {
          "output_type": "execute_result",
          "data": {
            "text/plain": [
              "MORTGAGE    198022\n",
              "RENT        159395\n",
              "OWN          37660\n",
              "OTHER          110\n",
              "NONE            29\n",
              "ANY              3\n",
              "Name: home_ownership, dtype: int64"
            ]
          },
          "metadata": {
            "tags": []
          },
          "execution_count": 648
        }
      ],
      "metadata": {
        "id": "cCACLtP2PxkA",
        "colab": {
          "base_uri": "https://localhost:8080/"
        },
        "outputId": "35beba47-89dd-4fa4-83c5-32b4dc27d40c"
      }
    },
    {
      "cell_type": "markdown",
      "source": [
        "Let's replace ANY and NONE with OTHER:"
      ],
      "metadata": {
        "id": "yfXVCwPJ5mXw"
      }
    },
    {
      "cell_type": "code",
      "execution_count": 649,
      "source": [
        "df['home_ownership'] = df['home_ownership'].replace(['NONE','ANY'],'OTHER')"
      ],
      "outputs": [],
      "metadata": {
        "id": "hLLv7hGb5Ile"
      }
    },
    {
      "cell_type": "code",
      "execution_count": 650,
      "source": [
        "df['home_ownership'].value_counts()"
      ],
      "outputs": [
        {
          "output_type": "execute_result",
          "data": {
            "text/plain": [
              "MORTGAGE    198022\n",
              "RENT        159395\n",
              "OWN          37660\n",
              "OTHER          142\n",
              "Name: home_ownership, dtype: int64"
            ]
          },
          "metadata": {
            "tags": []
          },
          "execution_count": 650
        }
      ],
      "metadata": {
        "colab": {
          "base_uri": "https://localhost:8080/"
        },
        "id": "CXrVfjcu6ApU",
        "outputId": "5e382501-bde8-4c44-f9d6-517f9231fe55"
      }
    },
    {
      "cell_type": "code",
      "execution_count": 651,
      "source": [
        "home_ownership_onehot_encoded = pd.get_dummies(df['home_ownership'],drop_first=True)\n",
        "df = pd.concat([df.drop('home_ownership',axis = 1),home_ownership_onehot_encoded],axis = 1)"
      ],
      "outputs": [],
      "metadata": {
        "id": "0xm5jVNQ6ZDs"
      }
    },
    {
      "cell_type": "markdown",
      "source": [
        "## Address Feature"
      ],
      "metadata": {
        "id": "DVOWFGfIDG6W"
      }
    },
    {
      "cell_type": "code",
      "execution_count": 652,
      "source": [
        "df['zip_code'] = df['address'].apply(lambda address : int(address[-5:]))"
      ],
      "outputs": [],
      "metadata": {
        "id": "4iY2pUdM7otp"
      }
    },
    {
      "cell_type": "code",
      "execution_count": 653,
      "source": [
        "df['zip_code'].unique()"
      ],
      "outputs": [
        {
          "output_type": "execute_result",
          "data": {
            "text/plain": [
              "array([22690,  5113,   813, 11650, 30723, 70466, 29597, 48052, 86630,\n",
              "       93700])"
            ]
          },
          "metadata": {
            "tags": []
          },
          "execution_count": 653
        }
      ],
      "metadata": {
        "colab": {
          "base_uri": "https://localhost:8080/"
        },
        "id": "BkYb6VatDUTT",
        "outputId": "fe2ea8e4-8e2d-4f00-b0f3-a1b5be1d7c45"
      }
    },
    {
      "cell_type": "code",
      "execution_count": 654,
      "source": [
        "dummies = pd.get_dummies(df['zip_code'],drop_first=True)\n",
        "df = pd.concat([df.drop(['zip_code','address'],axis = 1),dummies],axis = 1)"
      ],
      "outputs": [],
      "metadata": {
        "id": "YWb1S3NSHM7O"
      }
    },
    {
      "cell_type": "markdown",
      "source": [
        "## Issue Date Feature"
      ],
      "metadata": {
        "id": "t0J70zE6MuNP"
      }
    },
    {
      "cell_type": "code",
      "execution_count": 655,
      "source": [
        "df = df.drop('issue_d',axis = 1)"
      ],
      "outputs": [],
      "metadata": {
        "id": "Y_pvjJW4H890"
      }
    },
    {
      "cell_type": "markdown",
      "source": [
        "## \tearliest_cr_line"
      ],
      "metadata": {
        "id": "ktdGSst_Net6"
      }
    },
    {
      "cell_type": "code",
      "execution_count": 656,
      "source": [
        "df['earliest_cr_year'] = df['earliest_cr_line'].apply(lambda date : int(date[-4:]))\n",
        "df = df.drop('earliest_cr_line',axis = 1)"
      ],
      "outputs": [],
      "metadata": {
        "id": "i6Bko363M4_Z"
      }
    },
    {
      "cell_type": "markdown",
      "source": [
        "## Other categorical features"
      ],
      "metadata": {
        "id": "Juv82U9nPLB-"
      }
    },
    {
      "cell_type": "code",
      "execution_count": 657,
      "source": [
        "dummies = pd.get_dummies(df[['verification_status','purpose','initial_list_status','application_type']],drop_first=True)\n",
        "df = pd.concat([df.drop(['verification_status','purpose','initial_list_status','application_type'],axis = 1),dummies],axis = 1)"
      ],
      "outputs": [],
      "metadata": {
        "id": "PIFSnvfYOH5U"
      }
    },
    {
      "cell_type": "code",
      "execution_count": 657,
      "source": [],
      "outputs": [],
      "metadata": {
        "id": "aolHj0GUOxIp"
      }
    },
    {
      "cell_type": "markdown",
      "source": [
        "# Train Test Split"
      ],
      "metadata": {
        "id": "EiJXkYIFcl_K"
      }
    },
    {
      "cell_type": "code",
      "execution_count": 658,
      "source": [
        "from sklearn.model_selection import train_test_split"
      ],
      "outputs": [],
      "metadata": {
        "id": "JNIymMzHcuZA"
      }
    },
    {
      "cell_type": "code",
      "execution_count": 659,
      "source": [
        "df = df.drop('loan_status',axis = 1)\n",
        "X = df.drop('loan_repaid',axis = 1)\n",
        "y = df['loan_repaid']"
      ],
      "outputs": [],
      "metadata": {
        "id": "_hQbsd5kcvh7"
      }
    },
    {
      "cell_type": "code",
      "execution_count": 660,
      "source": [
        "X_train, X_test, y_train, y_test = train_test_split(X,y,test_size=0.2,random_state=101)"
      ],
      "outputs": [],
      "metadata": {
        "id": "y17w0F6vc5Y-"
      }
    },
    {
      "cell_type": "markdown",
      "source": [
        "# Normalizing the data"
      ],
      "metadata": {
        "id": "ECnqQrQmdRAJ"
      }
    },
    {
      "cell_type": "code",
      "execution_count": 661,
      "source": [
        "from sklearn.preprocessing import MinMaxScaler\n",
        "scaler = MinMaxScaler()\n",
        "X_train = scaler.fit_transform(X_train)\n",
        "X_test = scaler.transform(X_test)"
      ],
      "outputs": [],
      "metadata": {
        "id": "MHPAtRlCeHBV"
      }
    },
    {
      "cell_type": "markdown",
      "source": [
        "# Training our model\n",
        "\n"
      ],
      "metadata": {
        "id": "HT2wOtHre2lw"
      }
    },
    {
      "cell_type": "code",
      "execution_count": 662,
      "source": [
        "import tensorflow as tf\n",
        "from tensorflow.keras.models import Sequential\n",
        "from tensorflow.keras.layers import Dense,Dropout"
      ],
      "outputs": [],
      "metadata": {
        "id": "4dPPUmJ4fjT1"
      }
    },
    {
      "cell_type": "code",
      "execution_count": 663,
      "source": [
        "model = Sequential()"
      ],
      "outputs": [],
      "metadata": {
        "id": "mH_0CDrlfqYO"
      }
    },
    {
      "cell_type": "code",
      "execution_count": 664,
      "source": [
        "#Input layer\n",
        "model.add(Dense(78,activation='relu'))\n",
        "model.add(Dropout(0.2))\n",
        "\n",
        "#Hidden Layers\n",
        "model.add(Dense(39,activation='relu'))\n",
        "model.add(Dropout(0.2))\n",
        "\n",
        "model.add(Dense(19,activation='relu'))\n",
        "model.add(Dropout(0.2))\n",
        "\n",
        "#Output Layer\n",
        "model.add(Dense(1,activation='sigmoid'))\n",
        "\n",
        "model.compile(loss='binary_crossentropy', optimizer='adam')"
      ],
      "outputs": [],
      "metadata": {
        "id": "OoqpRLeZf8UF"
      }
    },
    {
      "cell_type": "code",
      "execution_count": 665,
      "source": [
        "model.fit(x=X_train, \n",
        "          y=y_train, \n",
        "          epochs=25,\n",
        "          batch_size=256,\n",
        "          validation_data=(X_test, y_test), \n",
        "          )\n"
      ],
      "outputs": [
        {
          "output_type": "stream",
          "name": "stdout",
          "text": [
            "Epoch 1/25\n",
            "1236/1236 [==============================] - 4s 3ms/step - loss: 0.2997 - val_loss: 0.2647\n",
            "Epoch 2/25\n",
            "1236/1236 [==============================] - 4s 3ms/step - loss: 0.2656 - val_loss: 0.2632\n",
            "Epoch 3/25\n",
            "1236/1236 [==============================] - 3s 3ms/step - loss: 0.2627 - val_loss: 0.2624\n",
            "Epoch 4/25\n",
            "1236/1236 [==============================] - 4s 3ms/step - loss: 0.2616 - val_loss: 0.2630\n",
            "Epoch 5/25\n",
            "1236/1236 [==============================] - 3s 3ms/step - loss: 0.2611 - val_loss: 0.2622\n",
            "Epoch 6/25\n",
            "1236/1236 [==============================] - 3s 3ms/step - loss: 0.2602 - val_loss: 0.2614\n",
            "Epoch 7/25\n",
            "1236/1236 [==============================] - 3s 3ms/step - loss: 0.2601 - val_loss: 0.2617\n",
            "Epoch 8/25\n",
            "1236/1236 [==============================] - 4s 3ms/step - loss: 0.2597 - val_loss: 0.2617\n",
            "Epoch 9/25\n",
            "1236/1236 [==============================] - 3s 2ms/step - loss: 0.2595 - val_loss: 0.2611\n",
            "Epoch 10/25\n",
            "1236/1236 [==============================] - 3s 2ms/step - loss: 0.2589 - val_loss: 0.2611\n",
            "Epoch 11/25\n",
            "1236/1236 [==============================] - 3s 3ms/step - loss: 0.2588 - val_loss: 0.2612\n",
            "Epoch 12/25\n",
            "1236/1236 [==============================] - 3s 3ms/step - loss: 0.2585 - val_loss: 0.2608\n",
            "Epoch 13/25\n",
            "1236/1236 [==============================] - 3s 3ms/step - loss: 0.2584 - val_loss: 0.2616\n",
            "Epoch 14/25\n",
            "1236/1236 [==============================] - 3s 3ms/step - loss: 0.2580 - val_loss: 0.2614\n",
            "Epoch 15/25\n",
            "1236/1236 [==============================] - 3s 3ms/step - loss: 0.2578 - val_loss: 0.2616\n",
            "Epoch 16/25\n",
            "1236/1236 [==============================] - 3s 3ms/step - loss: 0.2577 - val_loss: 0.2619\n",
            "Epoch 17/25\n",
            "1236/1236 [==============================] - 3s 3ms/step - loss: 0.2575 - val_loss: 0.2614\n",
            "Epoch 18/25\n",
            "1236/1236 [==============================] - 3s 3ms/step - loss: 0.2572 - val_loss: 0.2614\n",
            "Epoch 19/25\n",
            "1236/1236 [==============================] - 3s 3ms/step - loss: 0.2572 - val_loss: 0.2613\n",
            "Epoch 20/25\n",
            "1236/1236 [==============================] - 3s 3ms/step - loss: 0.2569 - val_loss: 0.2611\n",
            "Epoch 21/25\n",
            "1236/1236 [==============================] - 3s 3ms/step - loss: 0.2568 - val_loss: 0.2614\n",
            "Epoch 22/25\n",
            "1236/1236 [==============================] - 3s 3ms/step - loss: 0.2567 - val_loss: 0.2615\n",
            "Epoch 23/25\n",
            "1236/1236 [==============================] - 4s 3ms/step - loss: 0.2564 - val_loss: 0.2611\n",
            "Epoch 24/25\n",
            "1236/1236 [==============================] - 3s 3ms/step - loss: 0.2563 - val_loss: 0.2621\n",
            "Epoch 25/25\n",
            "1236/1236 [==============================] - 3s 3ms/step - loss: 0.2559 - val_loss: 0.2614\n"
          ]
        },
        {
          "output_type": "execute_result",
          "data": {
            "text/plain": [
              "<tensorflow.python.keras.callbacks.History at 0x7f128e9f3e90>"
            ]
          },
          "metadata": {
            "tags": []
          },
          "execution_count": 665
        }
      ],
      "metadata": {
        "colab": {
          "base_uri": "https://localhost:8080/"
        },
        "id": "uTgaTy8Vf-ke",
        "outputId": "b1b61387-e7ba-434e-9278-ebdb9454488e"
      }
    },
    {
      "cell_type": "code",
      "execution_count": 666,
      "source": [
        "losses = pd.DataFrame(model.history.history)\n",
        "losses.plot()"
      ],
      "outputs": [
        {
          "output_type": "execute_result",
          "data": {
            "text/plain": [
              "<matplotlib.axes._subplots.AxesSubplot at 0x7f127cc4c850>"
            ]
          },
          "metadata": {
            "tags": []
          },
          "execution_count": 666
        },
        {
          "output_type": "display_data",
          "data": {
            "text/plain": [
              "<Figure size 432x288 with 1 Axes>"
            ],
            "image/png": "[encoded data removed]"
          },
          "metadata": {
            "tags": [],
            "needs_background": "light"
          }
        }
      ],
      "metadata": {
        "colab": {
          "base_uri": "https://localhost:8080/",
          "height": 282
        },
        "id": "geGZh291hSRW",
        "outputId": "710023f1-ee47-43d2-bbc2-284c69006afa"
      }
    },
    {
      "cell_type": "code",
      "execution_count": 675,
      "source": [
        "predictions = model.predict_classes(X_test)"
      ],
      "outputs": [
        {
          "output_type": "stream",
          "name": "stderr",
          "text": [
            "/usr/local/lib/python3.7/dist-packages/tensorflow/python/keras/engine/sequential.py:455: UserWarning: `model.predict_classes()` is deprecated and will be removed after 2021-01-01. Please use instead:* `np.argmax(model.predict(x), axis=-1)`,   if your model does multi-class classification   (e.g. if it uses a `softmax` last-layer activation).* `(model.predict(x) > 0.5).astype(\"int32\")`,   if your model does binary classification   (e.g. if it uses a `sigmoid` last-layer activation).\n",
            "  warnings.warn('`model.predict_classes()` is deprecated and '\n"
          ]
        }
      ],
      "metadata": {
        "colab": {
          "base_uri": "https://localhost:8080/"
        },
        "id": "pviSyuLkoOtp",
        "outputId": "0deb293a-898c-43bf-eeaa-ece4ea943be4"
      }
    },
    {
      "cell_type": "code",
      "execution_count": 669,
      "source": [
        "from sklearn.metrics import classification_report,confusion_matrix"
      ],
      "outputs": [],
      "metadata": {
        "id": "MJHkgcXRqQFD"
      }
    },
    {
      "cell_type": "code",
      "execution_count": 672,
      "source": [
        "print(classification_report(y_test,predictions))"
      ],
      "outputs": [
        {
          "output_type": "stream",
          "name": "stdout",
          "text": [
            "              precision    recall  f1-score   support\n",
            "\n",
            "           0       0.99      0.43      0.60     15658\n",
            "           1       0.88      1.00      0.93     63386\n",
            "\n",
            "    accuracy                           0.89     79044\n",
            "   macro avg       0.93      0.72      0.77     79044\n",
            "weighted avg       0.90      0.89      0.87     79044\n",
            "\n"
          ]
        }
      ],
      "metadata": {
        "colab": {
          "base_uri": "https://localhost:8080/"
        },
        "id": "7CjZmW4dqdXH",
        "outputId": "b9130b3c-473d-44e4-d234-27f932618976"
      }
    },
    {
      "cell_type": "code",
      "execution_count": 673,
      "source": [
        "print(confusion_matrix(y_test,predictions))"
      ],
      "outputs": [
        {
          "output_type": "stream",
          "name": "stdout",
          "text": [
            "[[ 6789  8869]\n",
            " [   71 63315]]\n"
          ]
        }
      ],
      "metadata": {
        "colab": {
          "base_uri": "https://localhost:8080/"
        },
        "id": "f8NvJ8M3qf_5",
        "outputId": "8bcc2f46-39d5-4123-c5c8-fb2583fd9418"
      }
    }
  ]
}