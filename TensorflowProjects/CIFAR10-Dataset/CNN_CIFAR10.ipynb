{
  "nbformat": 4,
  "nbformat_minor": 0,
  "metadata": {
    "colab": {
      "name": "CNN_CIFAR10.ipynb",
      "provenance": [],
      "collapsed_sections": []
    },
    "kernelspec": {
      "name": "python3",
      "display_name": "Python 3"
    },
    "language_info": {
      "name": "python"
    }
  },
  "cells": [
    {
      "cell_type": "markdown",
      "metadata": {
        "id": "Qi83lgh9hoyT"
      },
      "source": [
        "# CNN on CIFAR10 Dataset"
      ]
    },
    {
      "cell_type": "code",
      "metadata": {
        "id": "uqRqfuz1hlcg"
      },
      "source": [
        "import pandas as pd\n",
        "import numpy as np\n",
        "import matplotlib.pyplot as plt"
      ],
      "execution_count": 50,
      "outputs": []
    },
    {
      "cell_type": "code",
      "metadata": {
        "id": "wiAkjlQChuC-"
      },
      "source": [
        "from tensorflow.keras.datasets import cifar10\n",
        "\n",
        "(X_train, y_train), (X_test, y_test) = cifar10.load_data()"
      ],
      "execution_count": 51,
      "outputs": []
    },
    {
      "cell_type": "code",
      "metadata": {
        "colab": {
          "base_uri": "https://localhost:8080/"
        },
        "id": "39MRdSkLjRxT",
        "outputId": "73ea8fe8-ed7f-41d2-9998-b8f812b15a26"
      },
      "source": [
        "X_train.shape"
      ],
      "execution_count": 52,
      "outputs": [
        {
          "output_type": "execute_result",
          "data": {
            "text/plain": [
              "(50000, 32, 32, 3)"
            ]
          },
          "metadata": {},
          "execution_count": 52
        }
      ]
    },
    {
      "cell_type": "code",
      "metadata": {
        "colab": {
          "base_uri": "https://localhost:8080/",
          "height": 283
        },
        "id": "YmsXNmkKrruO",
        "outputId": "33f872a1-f745-4f70-ff78-82bba3293f1e"
      },
      "source": [
        "plt.imshow(X_train[1])"
      ],
      "execution_count": 53,
      "outputs": [
        {
          "output_type": "execute_result",
          "data": {
            "text/plain": [
              "<matplotlib.image.AxesImage at 0x7fb6162759d0>"
            ]
          },
          "metadata": {},
          "execution_count": 53
        },
        {
          "output_type": "display_data",
          "data": {
            "image/png": "[encoded data removed]",
            "text/plain": [
              "<Figure size 432x288 with 1 Axes>"
            ]
          },
          "metadata": {
            "needs_background": "light"
          }
        }
      ]
    },
    {
      "cell_type": "markdown",
      "metadata": {
        "id": "9TtGSYcqvUd2"
      },
      "source": [
        "## Labels"
      ]
    },
    {
      "cell_type": "code",
      "metadata": {
        "colab": {
          "base_uri": "https://localhost:8080/"
        },
        "id": "De181B6pvXS2",
        "outputId": "41c63151-1212-4151-aa21-4c850439dd60"
      },
      "source": [
        "y_train"
      ],
      "execution_count": 54,
      "outputs": [
        {
          "output_type": "execute_result",
          "data": {
            "text/plain": [
              "array([[6],\n",
              "       [9],\n",
              "       [9],\n",
              "       ...,\n",
              "       [9],\n",
              "       [1],\n",
              "       [1]], dtype=uint8)"
            ]
          },
          "metadata": {},
          "execution_count": 54
        }
      ]
    },
    {
      "cell_type": "code",
      "metadata": {
        "id": "5kYcHo52vdFx"
      },
      "source": [
        "from tensorflow.keras.utils import to_categorical"
      ],
      "execution_count": 55,
      "outputs": []
    },
    {
      "cell_type": "code",
      "metadata": {
        "id": "PVF_2Jufv5lK"
      },
      "source": [
        "y_train_cat = to_categorical(y_train)\n",
        "y_test_cat = to_categorical(y_test)"
      ],
      "execution_count": 56,
      "outputs": []
    },
    {
      "cell_type": "code",
      "metadata": {
        "colab": {
          "base_uri": "https://localhost:8080/"
        },
        "id": "enmeRYsJv9kB",
        "outputId": "cada18fe-2ba8-4b65-e499-5f82546b52ae"
      },
      "source": [
        "y_train_cat.shape"
      ],
      "execution_count": 57,
      "outputs": [
        {
          "output_type": "execute_result",
          "data": {
            "text/plain": [
              "(50000, 10)"
            ]
          },
          "metadata": {},
          "execution_count": 57
        }
      ]
    },
    {
      "cell_type": "markdown",
      "metadata": {
        "id": "edHzBNyUwFPi"
      },
      "source": [
        "## Normalizing the X Data\n",
        "The color values are between 0 and 255. So dividing by 255 will normalize the X_train and X_test."
      ]
    },
    {
      "cell_type": "code",
      "metadata": {
        "id": "vy6hMLp-v_ku"
      },
      "source": [
        "X_train = X_train/255\n",
        "X_test = X_test/255"
      ],
      "execution_count": 58,
      "outputs": []
    },
    {
      "cell_type": "code",
      "metadata": {
        "colab": {
          "base_uri": "https://localhost:8080/",
          "height": 283
        },
        "id": "eaFjtqSFwfLv",
        "outputId": "8fe33927-49ee-4c05-a9f2-1c7326063222"
      },
      "source": [
        "scaled_image = X_train[0]\n",
        "plt.imshow(scaled_image)"
      ],
      "execution_count": 59,
      "outputs": [
        {
          "output_type": "execute_result",
          "data": {
            "text/plain": [
              "<matplotlib.image.AxesImage at 0x7fb61623b7d0>"
            ]
          },
          "metadata": {},
          "execution_count": 59
        },
        {
          "output_type": "display_data",
          "data": {
            "image/png": "[encoded data removed]",
            "text/plain": [
              "<Figure size 432x288 with 1 Axes>"
            ]
          },
          "metadata": {
            "needs_background": "light"
          }
        }
      ]
    },
    {
      "cell_type": "code",
      "metadata": {
        "colab": {
          "base_uri": "https://localhost:8080/"
        },
        "id": "F_sLEsUhwjNc",
        "outputId": "e429733e-ae06-4def-dfad-bbe1879d3df9"
      },
      "source": [
        "X_train.shape"
      ],
      "execution_count": 60,
      "outputs": [
        {
          "output_type": "execute_result",
          "data": {
            "text/plain": [
              "(50000, 32, 32, 3)"
            ]
          },
          "metadata": {},
          "execution_count": 60
        }
      ]
    },
    {
      "cell_type": "markdown",
      "metadata": {
        "id": "bmAu3MrWxGlt"
      },
      "source": [
        "## Training the model"
      ]
    },
    {
      "cell_type": "code",
      "metadata": {
        "id": "9n1OjIhGxFLL"
      },
      "source": [
        "from tensorflow.keras.models import Sequential\n",
        "from tensorflow.keras.layers import Dense, Conv2D, MaxPool2D, Flatten"
      ],
      "execution_count": 61,
      "outputs": []
    },
    {
      "cell_type": "code",
      "metadata": {
        "id": "R5EjvFaIxVRn"
      },
      "source": [
        "model = Sequential()"
      ],
      "execution_count": 62,
      "outputs": []
    },
    {
      "cell_type": "code",
      "metadata": {
        "id": "lG-yfh2WElia"
      },
      "source": [
        "model.add(Conv2D(filters=32,kernel_size=(4,4),input_shape = (32,32,3),activation='relu'))\n",
        "model.add(MaxPool2D(pool_size=(2,2)))"
      ],
      "execution_count": 63,
      "outputs": []
    },
    {
      "cell_type": "code",
      "metadata": {
        "id": "EiocP5jFF5Z2"
      },
      "source": [
        "model.add(Conv2D(filters=32,kernel_size=(4,4),input_shape = (32,32,3),activation='relu'))\n",
        "model.add(MaxPool2D(pool_size=(2,2)))"
      ],
      "execution_count": 64,
      "outputs": []
    },
    {
      "cell_type": "code",
      "metadata": {
        "id": "xR8b4K_iHJgK"
      },
      "source": [
        "model.add(Flatten())"
      ],
      "execution_count": 65,
      "outputs": []
    },
    {
      "cell_type": "code",
      "metadata": {
        "id": "Fk3XRZvKHMZR"
      },
      "source": [
        "model.add(Dense(units = 256, activation='relu'))"
      ],
      "execution_count": 66,
      "outputs": []
    },
    {
      "cell_type": "code",
      "metadata": {
        "id": "pdKcrApLHsB8"
      },
      "source": [
        "# Output Layer\n",
        "# There are 10 classes in CIFAR-10 dataset. So we need 10 neurons at the last layer\n",
        "model.add(Dense(units=10,activation='softmax'))"
      ],
      "execution_count": 67,
      "outputs": []
    },
    {
      "cell_type": "code",
      "metadata": {
        "id": "ZJKQzlP6IHMy"
      },
      "source": [
        "model.compile(optimizer='adam',loss = 'categorical_crossentropy', metrics=['accuracy'])"
      ],
      "execution_count": 68,
      "outputs": []
    },
    {
      "cell_type": "code",
      "metadata": {
        "colab": {
          "base_uri": "https://localhost:8080/"
        },
        "id": "g_5Hd1iLJFPB",
        "outputId": "96c08b4e-4e91-4d70-dc9f-cd7ab5668850"
      },
      "source": [
        "model.summary()"
      ],
      "execution_count": 69,
      "outputs": [
        {
          "output_type": "stream",
          "text": [
            "Model: \"sequential_1\"\n",
            "_________________________________________________________________\n",
            "Layer (type)                 Output Shape              Param #   \n",
            "=================================================================\n",
            "conv2d_3 (Conv2D)            (None, 29, 29, 32)        1568      \n",
            "_________________________________________________________________\n",
            "max_pooling2d_2 (MaxPooling2 (None, 14, 14, 32)        0         \n",
            "_________________________________________________________________\n",
            "conv2d_4 (Conv2D)            (None, 11, 11, 32)        16416     \n",
            "_________________________________________________________________\n",
            "max_pooling2d_3 (MaxPooling2 (None, 5, 5, 32)          0         \n",
            "_________________________________________________________________\n",
            "flatten_1 (Flatten)          (None, 800)               0         \n",
            "_________________________________________________________________\n",
            "dense_3 (Dense)              (None, 256)               205056    \n",
            "_________________________________________________________________\n",
            "dense_4 (Dense)              (None, 10)                2570      \n",
            "=================================================================\n",
            "Total params: 225,610\n",
            "Trainable params: 225,610\n",
            "Non-trainable params: 0\n",
            "_________________________________________________________________\n"
          ],
          "name": "stdout"
        }
      ]
    },
    {
      "cell_type": "code",
      "metadata": {
        "id": "Kaa3WOMoIltj"
      },
      "source": [
        "from tensorflow.keras.callbacks import EarlyStopping"
      ],
      "execution_count": 70,
      "outputs": []
    },
    {
      "cell_type": "code",
      "metadata": {
        "id": "GnSprs84I7Ld"
      },
      "source": [
        "early_stopping = EarlyStopping(monitor='val_loss',patience=3)"
      ],
      "execution_count": 71,
      "outputs": []
    },
    {
      "cell_type": "code",
      "metadata": {
        "id": "egN12AIoKXgt"
      },
      "source": [
        ""
      ],
      "execution_count": 71,
      "outputs": []
    },
    {
      "cell_type": "code",
      "metadata": {
        "colab": {
          "base_uri": "https://localhost:8080/"
        },
        "id": "5EH5m4QjI-F9",
        "outputId": "ccd950c1-ca5c-4efc-c74f-d27b8b59311e"
      },
      "source": [
        "model.fit(X_train,y_train_cat,epochs=20,callbacks=[early_stopping],validation_data=(X_test,y_test_cat))"
      ],
      "execution_count": 72,
      "outputs": [
        {
          "output_type": "stream",
          "text": [
            "Epoch 1/20\n",
            "1563/1563 [==============================] - 179s 114ms/step - loss: 1.6013 - accuracy: 0.4439 - val_loss: 1.5274 - val_accuracy: 0.4627\n",
            "Epoch 2/20\n",
            "1563/1563 [==============================] - 182s 116ms/step - loss: 1.4072 - accuracy: 0.5217 - val_loss: 1.3626 - val_accuracy: 0.5306\n",
            "Epoch 3/20\n",
            "1563/1563 [==============================] - 178s 114ms/step - loss: 1.2570 - accuracy: 0.5754 - val_loss: 1.2618 - val_accuracy: 0.5729\n",
            "Epoch 4/20\n",
            "1563/1563 [==============================] - 177s 113ms/step - loss: 1.1321 - accuracy: 0.6188 - val_loss: 1.1663 - val_accuracy: 0.6043\n",
            "Epoch 5/20\n",
            "1563/1563 [==============================] - 177s 113ms/step - loss: 1.0243 - accuracy: 0.6537 - val_loss: 1.1723 - val_accuracy: 0.6006\n",
            "Epoch 6/20\n",
            "1563/1563 [==============================] - 176s 113ms/step - loss: 0.9379 - accuracy: 0.6815 - val_loss: 1.1455 - val_accuracy: 0.6152\n",
            "Epoch 7/20\n",
            "1563/1563 [==============================] - 175s 112ms/step - loss: 0.8614 - accuracy: 0.7063 - val_loss: 1.0989 - val_accuracy: 0.6366\n",
            "Epoch 8/20\n",
            "1563/1563 [==============================] - 176s 113ms/step - loss: 0.7906 - accuracy: 0.7320 - val_loss: 1.1252 - val_accuracy: 0.6296\n",
            "Epoch 9/20\n",
            "1563/1563 [==============================] - 175s 112ms/step - loss: 0.7351 - accuracy: 0.7507 - val_loss: 1.0966 - val_accuracy: 0.6404\n",
            "Epoch 10/20\n",
            "1563/1563 [==============================] - 176s 112ms/step - loss: 0.6843 - accuracy: 0.7669 - val_loss: 1.1239 - val_accuracy: 0.6456\n",
            "Epoch 11/20\n",
            "1563/1563 [==============================] - 177s 113ms/step - loss: 0.6428 - accuracy: 0.7827 - val_loss: 1.1672 - val_accuracy: 0.6383\n",
            "Epoch 12/20\n",
            "1563/1563 [==============================] - 178s 114ms/step - loss: 0.6009 - accuracy: 0.7972 - val_loss: 1.1723 - val_accuracy: 0.6478\n"
          ],
          "name": "stdout"
        },
        {
          "output_type": "execute_result",
          "data": {
            "text/plain": [
              "<keras.callbacks.History at 0x7fb6162a5050>"
            ]
          },
          "metadata": {},
          "execution_count": 49
        },
        {
          "output_type": "stream",
          "text": [
            "Epoch 1/20\n",
            "1563/1563 [==============================] - 65s 41ms/step - loss: 1.5138 - accuracy: 0.4529 - val_loss: 1.2665 - val_accuracy: 0.5447\n",
            "Epoch 2/20\n",
            "1563/1563 [==============================] - 66s 42ms/step - loss: 1.1818 - accuracy: 0.5825 - val_loss: 1.1234 - val_accuracy: 0.6096\n",
            "Epoch 3/20\n",
            "1563/1563 [==============================] - 64s 41ms/step - loss: 1.0343 - accuracy: 0.6361 - val_loss: 1.0824 - val_accuracy: 0.6244\n",
            "Epoch 4/20\n",
            "1563/1563 [==============================] - 65s 41ms/step - loss: 0.9274 - accuracy: 0.6749 - val_loss: 1.0379 - val_accuracy: 0.6389\n",
            "Epoch 5/20\n",
            "1563/1563 [==============================] - 68s 44ms/step - loss: 0.8412 - accuracy: 0.7061 - val_loss: 0.9685 - val_accuracy: 0.6664\n",
            "Epoch 6/20\n",
            "1563/1563 [==============================] - 73s 47ms/step - loss: 0.7672 - accuracy: 0.7317 - val_loss: 0.9520 - val_accuracy: 0.6736\n",
            "Epoch 7/20\n",
            "1563/1563 [==============================] - 75s 48ms/step - loss: 0.7020 - accuracy: 0.7552 - val_loss: 0.9626 - val_accuracy: 0.6720\n",
            "Epoch 8/20\n",
            "1563/1563 [==============================] - 72s 46ms/step - loss: 0.6419 - accuracy: 0.7742 - val_loss: 0.9907 - val_accuracy: 0.6694\n",
            "Epoch 9/20\n",
            "1563/1563 [==============================] - 69s 44ms/step - loss: 0.5872 - accuracy: 0.7951 - val_loss: 0.9919 - val_accuracy: 0.6788\n"
          ],
          "name": "stdout"
        },
        {
          "output_type": "execute_result",
          "data": {
            "text/plain": [
              "<keras.callbacks.History at 0x7fb6161c0490>"
            ]
          },
          "metadata": {},
          "execution_count": 72
        }
      ]
    },
    {
      "cell_type": "markdown",
      "metadata": {
        "id": "59yQz3_yeUWh"
      },
      "source": [
        "## Evaluating the model"
      ]
    },
    {
      "cell_type": "code",
      "metadata": {
        "id": "7Zej3arHJIPU",
        "colab": {
          "base_uri": "https://localhost:8080/",
          "height": 326
        },
        "outputId": "0f817eee-0dd4-4b88-a515-e1ec1a561096"
      },
      "source": [
        "losses = pd.DataFrame(model.history.history)\n",
        "losses"
      ],
      "execution_count": 73,
      "outputs": [
        {
          "output_type": "execute_result",
          "data": {
            "text/html": [
              "<div>\n",
              "<style scoped>\n",
              "    .dataframe tbody tr th:only-of-type {\n",
              "        vertical-align: middle;\n",
              "    }\n",
              "\n",
              "    .dataframe tbody tr th {\n",
              "        vertical-align: top;\n",
              "    }\n",
              "\n",
              "    .dataframe thead th {\n",
              "        text-align: right;\n",
              "    }\n",
              "</style>\n",
              "<table border=\"1\" class=\"dataframe\">\n",
              "  <thead>\n",
              "    <tr style=\"text-align: right;\">\n",
              "      <th></th>\n",
              "      <th>loss</th>\n",
              "      <th>accuracy</th>\n",
              "      <th>val_loss</th>\n",
              "      <th>val_accuracy</th>\n",
              "    </tr>\n",
              "  </thead>\n",
              "  <tbody>\n",
              "    <tr>\n",
              "      <th>0</th>\n",
              "      <td>1.513752</td>\n",
              "      <td>0.45294</td>\n",
              "      <td>1.266522</td>\n",
              "      <td>0.5447</td>\n",
              "    </tr>\n",
              "    <tr>\n",
              "      <th>1</th>\n",
              "      <td>1.181750</td>\n",
              "      <td>0.58254</td>\n",
              "      <td>1.123353</td>\n",
              "      <td>0.6096</td>\n",
              "    </tr>\n",
              "    <tr>\n",
              "      <th>2</th>\n",
              "      <td>1.034325</td>\n",
              "      <td>0.63614</td>\n",
              "      <td>1.082415</td>\n",
              "      <td>0.6244</td>\n",
              "    </tr>\n",
              "    <tr>\n",
              "      <th>3</th>\n",
              "      <td>0.927405</td>\n",
              "      <td>0.67490</td>\n",
              "      <td>1.037901</td>\n",
              "      <td>0.6389</td>\n",
              "    </tr>\n",
              "    <tr>\n",
              "      <th>4</th>\n",
              "      <td>0.841227</td>\n",
              "      <td>0.70614</td>\n",
              "      <td>0.968452</td>\n",
              "      <td>0.6664</td>\n",
              "    </tr>\n",
              "    <tr>\n",
              "      <th>5</th>\n",
              "      <td>0.767237</td>\n",
              "      <td>0.73174</td>\n",
              "      <td>0.952029</td>\n",
              "      <td>0.6736</td>\n",
              "    </tr>\n",
              "    <tr>\n",
              "      <th>6</th>\n",
              "      <td>0.702043</td>\n",
              "      <td>0.75518</td>\n",
              "      <td>0.962585</td>\n",
              "      <td>0.6720</td>\n",
              "    </tr>\n",
              "    <tr>\n",
              "      <th>7</th>\n",
              "      <td>0.641925</td>\n",
              "      <td>0.77422</td>\n",
              "      <td>0.990696</td>\n",
              "      <td>0.6694</td>\n",
              "    </tr>\n",
              "    <tr>\n",
              "      <th>8</th>\n",
              "      <td>0.587194</td>\n",
              "      <td>0.79506</td>\n",
              "      <td>0.991873</td>\n",
              "      <td>0.6788</td>\n",
              "    </tr>\n",
              "  </tbody>\n",
              "</table>\n",
              "</div>"
            ],
            "text/plain": [
              "       loss  accuracy  val_loss  val_accuracy\n",
              "0  1.513752   0.45294  1.266522        0.5447\n",
              "1  1.181750   0.58254  1.123353        0.6096\n",
              "2  1.034325   0.63614  1.082415        0.6244\n",
              "3  0.927405   0.67490  1.037901        0.6389\n",
              "4  0.841227   0.70614  0.968452        0.6664\n",
              "5  0.767237   0.73174  0.952029        0.6736\n",
              "6  0.702043   0.75518  0.962585        0.6720\n",
              "7  0.641925   0.77422  0.990696        0.6694\n",
              "8  0.587194   0.79506  0.991873        0.6788"
            ]
          },
          "metadata": {},
          "execution_count": 73
        }
      ]
    },
    {
      "cell_type": "code",
      "metadata": {
        "colab": {
          "base_uri": "https://localhost:8080/",
          "height": 282
        },
        "id": "OGtNKesleZyj",
        "outputId": "8c2677d3-c794-40b6-95e9-daae60abcea9"
      },
      "source": [
        "losses[['accuracy','val_accuracy']].plot()"
      ],
      "execution_count": 74,
      "outputs": [
        {
          "output_type": "execute_result",
          "data": {
            "text/plain": [
              "<matplotlib.axes._subplots.AxesSubplot at 0x7fb616056e50>"
            ]
          },
          "metadata": {},
          "execution_count": 74
        },
        {
          "output_type": "display_data",
          "data": {
            "image/png": "[encoded data removed]",
            "text/plain": [
              "<Figure size 432x288 with 1 Axes>"
            ]
          },
          "metadata": {
            "needs_background": "light"
          }
        }
      ]
    },
    {
      "cell_type": "code",
      "metadata": {
        "colab": {
          "base_uri": "https://localhost:8080/",
          "height": 282
        },
        "id": "aqHpV4nDeb5R",
        "outputId": "78c02d47-adb8-4c3d-d484-b2d29cd9593f"
      },
      "source": [
        "losses[['loss','val_loss']].plot()"
      ],
      "execution_count": 75,
      "outputs": [
        {
          "output_type": "execute_result",
          "data": {
            "text/plain": [
              "<matplotlib.axes._subplots.AxesSubplot at 0x7fb6161e9750>"
            ]
          },
          "metadata": {},
          "execution_count": 75
        },
        {
          "output_type": "display_data",
          "data": {
            "image/png": "[encoded data removed]",
            "text/plain": [
              "<Figure size 432x288 with 1 Axes>"
            ]
          },
          "metadata": {
            "needs_background": "light"
          }
        }
      ]
    },
    {
      "cell_type": "code",
      "metadata": {
        "colab": {
          "base_uri": "https://localhost:8080/"
        },
        "id": "ShFRcc1Aef8h",
        "outputId": "b2897f76-0560-43b3-e089-5c1242bfa98f"
      },
      "source": [
        "print(model.metrics_names)\n",
        "print(model.evaluate(X_test,y_test_cat,verbose=0))"
      ],
      "execution_count": 76,
      "outputs": [
        {
          "output_type": "stream",
          "text": [
            "['loss', 'accuracy']\n",
            "[0.9918728470802307, 0.6787999868392944]\n"
          ],
          "name": "stdout"
        }
      ]
    },
    {
      "cell_type": "code",
      "metadata": {
        "id": "CjH7U25nevtB"
      },
      "source": [
        "from sklearn.metrics import classification_report,confusion_matrix"
      ],
      "execution_count": 77,
      "outputs": []
    },
    {
      "cell_type": "code",
      "metadata": {
        "id": "W249XF2Re1CP"
      },
      "source": [
        "predictions = model.predict(X_test)\n",
        "predictions = np.argmax(predictions,axis=1)"
      ],
      "execution_count": 78,
      "outputs": []
    },
    {
      "cell_type": "code",
      "metadata": {
        "colab": {
          "base_uri": "https://localhost:8080/"
        },
        "id": "HcMUI-GAe68E",
        "outputId": "5efb7ca8-882e-40c7-8856-34857fa90a70"
      },
      "source": [
        "print(classification_report(y_test,predictions))"
      ],
      "execution_count": 79,
      "outputs": [
        {
          "output_type": "stream",
          "text": [
            "              precision    recall  f1-score   support\n",
            "\n",
            "           0       0.70      0.72      0.71      1000\n",
            "           1       0.83      0.77      0.80      1000\n",
            "           2       0.60      0.57      0.58      1000\n",
            "           3       0.46      0.54      0.50      1000\n",
            "           4       0.64      0.60      0.62      1000\n",
            "           5       0.60      0.51      0.55      1000\n",
            "           6       0.67      0.84      0.75      1000\n",
            "           7       0.78      0.70      0.74      1000\n",
            "           8       0.76      0.79      0.77      1000\n",
            "           9       0.80      0.74      0.76      1000\n",
            "\n",
            "    accuracy                           0.68     10000\n",
            "   macro avg       0.68      0.68      0.68     10000\n",
            "weighted avg       0.68      0.68      0.68     10000\n",
            "\n"
          ],
          "name": "stdout"
        }
      ]
    },
    {
      "cell_type": "code",
      "metadata": {
        "colab": {
          "base_uri": "https://localhost:8080/"
        },
        "id": "xN1-zQWVe894",
        "outputId": "e5322460-34d5-43ca-d76c-a4f42d5ae8fb"
      },
      "source": [
        "conf_matrix = confusion_matrix(y_test,predictions)\n",
        "conf_matrix"
      ],
      "execution_count": 80,
      "outputs": [
        {
          "output_type": "execute_result",
          "data": {
            "text/plain": [
              "array([[719,  26,  55,  24,  26,  10,  12,   6,  90,  32],\n",
              "       [ 31, 772,   7,  17,   7,   3,  23,   5,  49,  86],\n",
              "       [ 61,   5, 573, 105,  61,  55,  86,  30,  15,   9],\n",
              "       [ 21,  11,  66, 542,  63, 152,  93,  25,  16,  11],\n",
              "       [ 23,   3,  87,  87, 604,  36,  93,  50,  13,   4],\n",
              "       [ 18,   4,  60, 225,  57, 513,  55,  56,   6,   6],\n",
              "       [  7,   7,  46,  53,  21,  10, 843,   9,   2,   2],\n",
              "       [ 17,   8,  35,  67,  84,  49,  20, 700,   6,  14],\n",
              "       [ 81,  24,  23,  25,  12,  11,   9,   4, 785,  26],\n",
              "       [ 45,  75,  10,  35,   3,  11,  18,  13,  53, 737]])"
            ]
          },
          "metadata": {},
          "execution_count": 80
        }
      ]
    },
    {
      "cell_type": "code",
      "metadata": {
        "id": "nIE3OHVcfP80"
      },
      "source": [
        "import seaborn as sns"
      ],
      "execution_count": 81,
      "outputs": []
    },
    {
      "cell_type": "code",
      "metadata": {
        "colab": {
          "base_uri": "https://localhost:8080/",
          "height": 609
        },
        "id": "zcNkVdP2fVwQ",
        "outputId": "d1abaec0-25ce-4046-8cad-bc9b1b989289"
      },
      "source": [
        "plt.figure(figsize=(10,10))\n",
        "sns.heatmap(data=conf_matrix,annot=True)"
      ],
      "execution_count": 82,
      "outputs": [
        {
          "output_type": "execute_result",
          "data": {
            "text/plain": [
              "<matplotlib.axes._subplots.AxesSubplot at 0x7fb60ac5f390>"
            ]
          },
          "metadata": {},
          "execution_count": 82
        },
        {
          "output_type": "display_data",
          "data": {
            "image/png": "[encoded data removed]",
            "text/plain": [
              "<Figure size 720x720 with 2 Axes>"
            ]
          },
          "metadata": {
            "needs_background": "light"
          }
        }
      ]
    },
    {
      "cell_type": "code",
      "metadata": {
        "id": "1GpA9XPBfYRP"
      },
      "source": [
        ""
      ],
      "execution_count": null,
      "outputs": []
    }
  ]
}